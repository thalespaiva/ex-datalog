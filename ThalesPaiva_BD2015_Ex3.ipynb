{
 "cells": [
  {
   "cell_type": "markdown",
   "metadata": {},
   "source": [
    "# MAC5861 - Modelagem de Banco de Dados 2015  (Profa. Kelly R. Bragheto)"
   ]
  },
  {
   "cell_type": "markdown",
   "metadata": {},
   "source": [
    "Resolução da Lista de Exercícios III"
   ]
  },
  {
   "cell_type": "markdown",
   "metadata": {},
   "source": [
    "Thales A. B. Paiva (thalespaiva@gmail.com) "
   ]
  },
  {
   "cell_type": "markdown",
   "metadata": {},
   "source": [
    "# Exercício 1"
   ]
  },
  {
   "cell_type": "markdown",
   "metadata": {},
   "source": [
    "Considere a relação `direct_sequel(Film, Sequel)` que armazena tuplas `(m, s)` em que `t` é o título de um filme e `s` é o título de uma sequência imediata de `t`. Considere que podemos ter mais de uma sequência imediata de um mesmo filme. "
   ]
  },
  {
   "cell_type": "markdown",
   "metadata": {},
   "source": [
    "Define-se uma relação continuação, representada por `sequel`, tal que uma dupla `(t, c)` está em `sequel` se:\n",
    "* `c` é sequência imediata de `t`\n",
    "* `c` é sequência de uma sequência de uma sequência imediata de `t`"
   ]
  },
  {
   "cell_type": "markdown",
   "metadata": {},
   "source": [
    "## Resolução"
   ]
  },
  {
   "cell_type": "markdown",
   "metadata": {},
   "source": [
    "Resolvemos este exercício em Python usando o módulo `pyDatalog` (em <https://sites.google.com/site/pydatalog/home>)."
   ]
  },
  {
   "cell_type": "code",
   "execution_count": 1,
   "metadata": {
    "collapsed": true
   },
   "outputs": [],
   "source": [
    "from pyDatalog import pyDatalog as pdl"
   ]
  },
  {
   "cell_type": "markdown",
   "metadata": {},
   "source": [
    "Vamos incializar nossa relação `direct_sequel`."
   ]
  },
  {
   "cell_type": "code",
   "execution_count": 2,
   "metadata": {
    "collapsed": true
   },
   "outputs": [],
   "source": [
    "pdl.create_terms('direct_sequel')"
   ]
  },
  {
   "cell_type": "markdown",
   "metadata": {},
   "source": [
    "Agora colocamos algumas tuplas:"
   ]
  },
  {
   "cell_type": "code",
   "execution_count": 3,
   "metadata": {
    "collapsed": true
   },
   "outputs": [],
   "source": [
    "+direct_sequel('Rocky I', 'Rocky II')\n",
    "+direct_sequel('Rocky II', 'Rocky III')\n",
    "+direct_sequel('Rocky III', 'Rocky IV')\n",
    "+direct_sequel('Rocky IV', 'Rocky V')\n",
    "+direct_sequel('Rocky V', 'Rocky VI')\n",
    "+direct_sequel('Esqueceram de Mim 1', 'Esqueceram de Mim 2')\n",
    "+direct_sequel('Esqueceram de Mim 2', 'Esqueceram de Mim 3')\n",
    "+direct_sequel('Esqueceram de Mim 3', 'Esqueceram de Mim 4')\n",
    "+direct_sequel('Esqueceram de Mim 4', 'Esqueceram de Mim 5')\n",
    "+direct_sequel('Star Wars: Episódio IV', 'Star Wars: Episódio V')\n",
    "+direct_sequel('Star Wars: Episódio V', 'Star Wars: Episódio VI')\n",
    "+direct_sequel('Senhor dos Anéis: A Sociedade do Anel', 'Senhor dos Anéis: As Duas Torres')\n",
    "+direct_sequel('Senhor dos Anéis: As Duas Torres', 'Senhor dos Anéis: O Retorno do Rei')\n",
    "+direct_sequel('Filme X', 'Filme X.1')\n",
    "+direct_sequel('Filme X', 'Filme X.2')\n",
    "+direct_sequel('Filme Y', 'Filme Y.1')\n",
    "+direct_sequel('Filme Y.1', 'Filme Y.1.1')\n",
    "+direct_sequel('Filme Y.1', 'Filme Y.1.2')"
   ]
  },
  {
   "cell_type": "markdown",
   "metadata": {},
   "source": [
    "Precisamos de quatro variáveis para definir as consultas pedidas."
   ]
  },
  {
   "cell_type": "code",
   "execution_count": 4,
   "metadata": {
    "collapsed": true
   },
   "outputs": [],
   "source": [
    "pdl.create_terms('W, X, Y, Z')"
   ]
  },
  {
   "cell_type": "markdown",
   "metadata": {},
   "source": [
    "Podemos ver a tabela que define o predicado `direct_sequel` abaixo."
   ]
  },
  {
   "cell_type": "code",
   "execution_count": 5,
   "metadata": {
    "collapsed": false
   },
   "outputs": [
    {
     "name": "stdout",
     "output_type": "stream",
     "text": [
      "X                                     | Y                                 \n",
      "--------------------------------------|-----------------------------------\n",
      "Esqueceram de Mim 1                   | Esqueceram de Mim 2               \n",
      "Esqueceram de Mim 2                   | Esqueceram de Mim 3               \n",
      "Esqueceram de Mim 3                   | Esqueceram de Mim 4               \n",
      "Esqueceram de Mim 4                   | Esqueceram de Mim 5               \n",
      "Filme X                               | Filme X.1                         \n",
      "Filme X                               | Filme X.2                         \n",
      "Filme Y                               | Filme Y.1                         \n",
      "Filme Y.1                             | Filme Y.1.1                       \n",
      "Filme Y.1                             | Filme Y.1.2                       \n",
      "Rocky I                               | Rocky II                          \n",
      "Rocky II                              | Rocky III                         \n",
      "Rocky III                             | Rocky IV                          \n",
      "Rocky IV                              | Rocky V                           \n",
      "Rocky V                               | Rocky VI                          \n",
      "Senhor dos Anéis: A Sociedade do Anel | Senhor dos Anéis: As Duas Torres  \n",
      "Senhor dos Anéis: As Duas Torres      | Senhor dos Anéis: O Retorno do Rei\n",
      "Star Wars: Episódio IV                | Star Wars: Episódio V             \n",
      "Star Wars: Episódio V                 | Star Wars: Episódio VI            \n"
     ]
    }
   ],
   "source": [
    "print(direct_sequel(X, Y).sort())"
   ]
  },
  {
   "cell_type": "markdown",
   "metadata": {},
   "source": [
    "Estamos aptos a escrever as consultas do **item A** ao **item F**."
   ]
  },
  {
   "cell_type": "markdown",
   "metadata": {},
   "source": [
    "### (A)\n",
    "*Escreva uma consulta que retorne os pares `(x, y)` tais que `y` é continuação de `x`.*"
   ]
  },
  {
   "cell_type": "markdown",
   "metadata": {},
   "source": [
    "Chamamos esta consulta de `sequel(X, Y)`."
   ]
  },
  {
   "cell_type": "code",
   "execution_count": 6,
   "metadata": {
    "collapsed": true
   },
   "outputs": [],
   "source": [
    "pdl.create_terms('sequel')"
   ]
  },
  {
   "cell_type": "markdown",
   "metadata": {},
   "source": [
    "Pela definição de continuação, `sequel`, dada no enunciado, temos:"
   ]
  },
  {
   "cell_type": "code",
   "execution_count": 7,
   "metadata": {
    "collapsed": false
   },
   "outputs": [
    {
     "data": {
      "text/plain": [
       "sequel(X,Y) <= direct_sequel(X,Z)&sequel(Z,Y)"
      ]
     },
     "execution_count": 7,
     "metadata": {},
     "output_type": "execute_result"
    }
   ],
   "source": [
    "sequel(X, Y) <= direct_sequel(X, Y)\n",
    "sequel(X, Y) <= direct_sequel(X, Z) & sequel(Z, Y)"
   ]
  },
  {
   "cell_type": "markdown",
   "metadata": {},
   "source": [
    "Abaixo, vemos a tabela gerada por esta consulta."
   ]
  },
  {
   "cell_type": "code",
   "execution_count": 8,
   "metadata": {
    "collapsed": false
   },
   "outputs": [
    {
     "name": "stdout",
     "output_type": "stream",
     "text": [
      "X                                     | Y                                 \n",
      "--------------------------------------|-----------------------------------\n",
      "Esqueceram de Mim 1                   | Esqueceram de Mim 2               \n",
      "Esqueceram de Mim 1                   | Esqueceram de Mim 3               \n",
      "Esqueceram de Mim 1                   | Esqueceram de Mim 4               \n",
      "Esqueceram de Mim 1                   | Esqueceram de Mim 5               \n",
      "Esqueceram de Mim 2                   | Esqueceram de Mim 3               \n",
      "Esqueceram de Mim 2                   | Esqueceram de Mim 4               \n",
      "Esqueceram de Mim 2                   | Esqueceram de Mim 5               \n",
      "Esqueceram de Mim 3                   | Esqueceram de Mim 4               \n",
      "Esqueceram de Mim 3                   | Esqueceram de Mim 5               \n",
      "Esqueceram de Mim 4                   | Esqueceram de Mim 5               \n",
      "Filme X                               | Filme X.1                         \n",
      "Filme X                               | Filme X.2                         \n",
      "Filme Y                               | Filme Y.1                         \n",
      "Filme Y                               | Filme Y.1.1                       \n",
      "Filme Y                               | Filme Y.1.2                       \n",
      "Filme Y.1                             | Filme Y.1.1                       \n",
      "Filme Y.1                             | Filme Y.1.2                       \n",
      "Rocky I                               | Rocky II                          \n",
      "Rocky I                               | Rocky III                         \n",
      "Rocky I                               | Rocky IV                          \n",
      "Rocky I                               | Rocky V                           \n",
      "Rocky I                               | Rocky VI                          \n",
      "Rocky II                              | Rocky III                         \n",
      "Rocky II                              | Rocky IV                          \n",
      "Rocky II                              | Rocky V                           \n",
      "Rocky II                              | Rocky VI                          \n",
      "Rocky III                             | Rocky IV                          \n",
      "Rocky III                             | Rocky V                           \n",
      "Rocky III                             | Rocky VI                          \n",
      "Rocky IV                              | Rocky V                           \n",
      "Rocky IV                              | Rocky VI                          \n",
      "Rocky V                               | Rocky VI                          \n",
      "Senhor dos Anéis: A Sociedade do Anel | Senhor dos Anéis: As Duas Torres  \n",
      "Senhor dos Anéis: A Sociedade do Anel | Senhor dos Anéis: O Retorno do Rei\n",
      "Senhor dos Anéis: As Duas Torres      | Senhor dos Anéis: O Retorno do Rei\n",
      "Star Wars: Episódio IV                | Star Wars: Episódio V             \n",
      "Star Wars: Episódio IV                | Star Wars: Episódio VI            \n",
      "Star Wars: Episódio V                 | Star Wars: Episódio VI            \n"
     ]
    }
   ],
   "source": [
    "print(sequel(X, Y).sort())"
   ]
  },
  {
   "cell_type": "markdown",
   "metadata": {},
   "source": [
    "### (B)\n",
    "*Escreva uma consulta que retorne os pares `(x, y)` tais que `y` é continuação de `x` mas não uma sequência imediata de `x`.*"
   ]
  },
  {
   "cell_type": "markdown",
   "metadata": {},
   "source": [
    "Chamamos esta consulta de `super_sequel`."
   ]
  },
  {
   "cell_type": "code",
   "execution_count": 9,
   "metadata": {
    "collapsed": false
   },
   "outputs": [],
   "source": [
    "pdl.create_terms('super_sequel')"
   ]
  },
  {
   "cell_type": "markdown",
   "metadata": {},
   "source": [
    "Pela definição:"
   ]
  },
  {
   "cell_type": "code",
   "execution_count": 10,
   "metadata": {
    "collapsed": false
   },
   "outputs": [
    {
     "data": {
      "text/plain": [
       "super_sequel(X,Y) <= sequel(X,Y)&~direct_sequel(X,"
      ]
     },
     "execution_count": 10,
     "metadata": {},
     "output_type": "execute_result"
    }
   ],
   "source": [
    "super_sequel(X, Y) <= sequel(X, Y) & ~direct_sequel(X, Y)"
   ]
  },
  {
   "cell_type": "markdown",
   "metadata": {},
   "source": [
    "E esta consulta gera a table abaixo."
   ]
  },
  {
   "cell_type": "code",
   "execution_count": 11,
   "metadata": {
    "collapsed": false
   },
   "outputs": [
    {
     "name": "stdout",
     "output_type": "stream",
     "text": [
      "X                                     | Y                                 \n",
      "--------------------------------------|-----------------------------------\n",
      "Esqueceram de Mim 1                   | Esqueceram de Mim 3               \n",
      "Esqueceram de Mim 1                   | Esqueceram de Mim 4               \n",
      "Esqueceram de Mim 1                   | Esqueceram de Mim 5               \n",
      "Esqueceram de Mim 2                   | Esqueceram de Mim 4               \n",
      "Esqueceram de Mim 2                   | Esqueceram de Mim 5               \n",
      "Esqueceram de Mim 3                   | Esqueceram de Mim 5               \n",
      "Filme Y                               | Filme Y.1.1                       \n",
      "Filme Y                               | Filme Y.1.2                       \n",
      "Rocky I                               | Rocky III                         \n",
      "Rocky I                               | Rocky IV                          \n",
      "Rocky I                               | Rocky V                           \n",
      "Rocky I                               | Rocky VI                          \n",
      "Rocky II                              | Rocky IV                          \n",
      "Rocky II                              | Rocky V                           \n",
      "Rocky II                              | Rocky VI                          \n",
      "Rocky III                             | Rocky V                           \n",
      "Rocky III                             | Rocky VI                          \n",
      "Rocky IV                              | Rocky VI                          \n",
      "Senhor dos Anéis: A Sociedade do Anel | Senhor dos Anéis: O Retorno do Rei\n",
      "Star Wars: Episódio IV                | Star Wars: Episódio VI            \n"
     ]
    }
   ],
   "source": [
    "print(super_sequel(X, Y).sort())"
   ]
  },
  {
   "cell_type": "markdown",
   "metadata": {},
   "source": [
    "### (C) \n",
    "*Escreva uma consulta que retorne os pares `(x, y)` tais que `y` é continuação de `x` mas não uma sequência imediata de `x`, nem uma sequência imediata de uma sequência imediata de `x`.*"
   ]
  },
  {
   "cell_type": "markdown",
   "metadata": {},
   "source": [
    "Chamamos esta consulta de `mega_sequel`."
   ]
  },
  {
   "cell_type": "code",
   "execution_count": 12,
   "metadata": {
    "collapsed": true
   },
   "outputs": [],
   "source": [
    "pdl.create_terms('mega_sequel')"
   ]
  },
  {
   "cell_type": "markdown",
   "metadata": {},
   "source": [
    "Note que a definição do enunciado é equivalente a existir uma sequência direta de `x` de que `y` é super-sequência. "
   ]
  },
  {
   "cell_type": "code",
   "execution_count": 13,
   "metadata": {
    "collapsed": false
   },
   "outputs": [
    {
     "data": {
      "text/plain": [
       "mega_sequel(X,Y) <= direct_sequel(X,Z)&super_seque"
      ]
     },
     "execution_count": 13,
     "metadata": {},
     "output_type": "execute_result"
    }
   ],
   "source": [
    "mega_sequel(X, Y) <= direct_sequel(X, Z) & super_sequel(Z, Y)"
   ]
  },
  {
   "cell_type": "code",
   "execution_count": 14,
   "metadata": {
    "collapsed": false
   },
   "outputs": [
    {
     "name": "stdout",
     "output_type": "stream",
     "text": [
      "X                   | Y                  \n",
      "--------------------|--------------------\n",
      "Esqueceram de Mim 1 | Esqueceram de Mim 4\n",
      "Esqueceram de Mim 1 | Esqueceram de Mim 5\n",
      "Esqueceram de Mim 2 | Esqueceram de Mim 5\n",
      "Rocky I             | Rocky IV           \n",
      "Rocky I             | Rocky V            \n",
      "Rocky I             | Rocky VI           \n",
      "Rocky II            | Rocky V            \n",
      "Rocky II            | Rocky VI           \n",
      "Rocky III           | Rocky VI           \n"
     ]
    }
   ],
   "source": [
    "print(mega_sequel(X,Y).sort())"
   ]
  },
  {
   "cell_type": "markdown",
   "metadata": {},
   "source": [
    "### (D)\n",
    "*Escreva uma consulta que retorne o conjunto de filmes `x` que possuem pelo menos duas sequências diretas.*"
   ]
  },
  {
   "cell_type": "markdown",
   "metadata": {},
   "source": [
    "Chamamos esta consulta de `at_least_2_direct_sequels`."
   ]
  },
  {
   "cell_type": "code",
   "execution_count": 15,
   "metadata": {
    "collapsed": true
   },
   "outputs": [],
   "source": [
    "pdl.create_terms('at_least_2_direct_sequels')"
   ]
  },
  {
   "cell_type": "code",
   "execution_count": 16,
   "metadata": {
    "collapsed": false
   },
   "outputs": [
    {
     "data": {
      "text/plain": [
       "at_least_2_direct_sequels(X) <= direct_sequel(X,Y)"
      ]
     },
     "execution_count": 16,
     "metadata": {},
     "output_type": "execute_result"
    }
   ],
   "source": [
    "at_least_2_direct_sequels(X) <= direct_sequel(X, Y) & direct_sequel(X, Z) & (Y != Z)"
   ]
  },
  {
   "cell_type": "code",
   "execution_count": 17,
   "metadata": {
    "collapsed": false
   },
   "outputs": [
    {
     "name": "stdout",
     "output_type": "stream",
     "text": [
      "X        \n",
      "---------\n",
      "Filme X  \n",
      "Filme Y.1\n"
     ]
    }
   ],
   "source": [
    "print(at_least_2_direct_sequels(X))"
   ]
  },
  {
   "cell_type": "markdown",
   "metadata": {},
   "source": [
    "### (E) \n",
    "*Escreva uma consulta que retorne o conjunto de filmes `x` que possuem pelo menos duas continuações.*"
   ]
  },
  {
   "cell_type": "markdown",
   "metadata": {},
   "source": [
    "Chamamos esta consulta de `at_least_2_sequels`."
   ]
  },
  {
   "cell_type": "code",
   "execution_count": 18,
   "metadata": {
    "collapsed": true
   },
   "outputs": [],
   "source": [
    "pdl.create_terms('at_least_2_sequels')"
   ]
  },
  {
   "cell_type": "code",
   "execution_count": 19,
   "metadata": {
    "collapsed": false
   },
   "outputs": [
    {
     "data": {
      "text/plain": [
       "at_least_2_sequels(X) <= sequel(X,Y)&sequel(X,Z)&!"
      ]
     },
     "execution_count": 19,
     "metadata": {},
     "output_type": "execute_result"
    }
   ],
   "source": [
    "at_least_2_sequels(X) <= sequel(X, Y) & sequel(X, Z) & (Y != Z)"
   ]
  },
  {
   "cell_type": "code",
   "execution_count": 20,
   "metadata": {
    "collapsed": false
   },
   "outputs": [
    {
     "name": "stdout",
     "output_type": "stream",
     "text": [
      "X                                    \n",
      "-------------------------------------\n",
      "Esqueceram de Mim 1                  \n",
      "Esqueceram de Mim 2                  \n",
      "Esqueceram de Mim 3                  \n",
      "Filme X                              \n",
      "Filme Y                              \n",
      "Filme Y.1                            \n",
      "Rocky I                              \n",
      "Rocky II                             \n",
      "Rocky III                            \n",
      "Rocky IV                             \n",
      "Senhor dos Anéis: A Sociedade do Anel\n",
      "Star Wars: Episódio IV               \n"
     ]
    }
   ],
   "source": [
    "print(at_least_2_sequels(X).sort())"
   ]
  },
  {
   "cell_type": "markdown",
   "metadata": {},
   "source": [
    "### (F)\n",
    "*Escreva uma consulta que retorne o conjunto de pares de filmes `(x, y)` tais que `y` é uma continuação de ` x` e `y` tem no máximo uma continuação.*"
   ]
  },
  {
   "cell_type": "markdown",
   "metadata": {},
   "source": [
    "Chamammos esta consulta de `sequel_with_at_most_one_sequel`"
   ]
  },
  {
   "cell_type": "code",
   "execution_count": 21,
   "metadata": {
    "collapsed": true
   },
   "outputs": [],
   "source": [
    "pdl.create_terms('sequel_with_at_most_one_sequel')"
   ]
  },
  {
   "cell_type": "code",
   "execution_count": 22,
   "metadata": {
    "collapsed": false
   },
   "outputs": [
    {
     "data": {
      "text/plain": [
       "sequel_with_at_most_one_sequel(X,Y) <= sequel(X,Y)"
      ]
     },
     "execution_count": 22,
     "metadata": {},
     "output_type": "execute_result"
    }
   ],
   "source": [
    "sequel_with_at_most_one_sequel(X, Y) <= sequel(X, Y) & ~at_least_2_sequels(Y)"
   ]
  },
  {
   "cell_type": "code",
   "execution_count": 23,
   "metadata": {
    "collapsed": false
   },
   "outputs": [
    {
     "name": "stdout",
     "output_type": "stream",
     "text": [
      "X                                     | Y                                 \n",
      "--------------------------------------|-----------------------------------\n",
      "Esqueceram de Mim 1                   | Esqueceram de Mim 4               \n",
      "Esqueceram de Mim 1                   | Esqueceram de Mim 5               \n",
      "Esqueceram de Mim 2                   | Esqueceram de Mim 4               \n",
      "Esqueceram de Mim 2                   | Esqueceram de Mim 5               \n",
      "Esqueceram de Mim 3                   | Esqueceram de Mim 4               \n",
      "Esqueceram de Mim 3                   | Esqueceram de Mim 5               \n",
      "Esqueceram de Mim 4                   | Esqueceram de Mim 5               \n",
      "Filme X                               | Filme X.1                         \n",
      "Filme X                               | Filme X.2                         \n",
      "Filme Y                               | Filme Y.1.1                       \n",
      "Filme Y                               | Filme Y.1.2                       \n",
      "Filme Y.1                             | Filme Y.1.1                       \n",
      "Filme Y.1                             | Filme Y.1.2                       \n",
      "Rocky I                               | Rocky V                           \n",
      "Rocky I                               | Rocky VI                          \n",
      "Rocky II                              | Rocky V                           \n",
      "Rocky II                              | Rocky VI                          \n",
      "Rocky III                             | Rocky V                           \n",
      "Rocky III                             | Rocky VI                          \n",
      "Rocky IV                              | Rocky V                           \n",
      "Rocky IV                              | Rocky VI                          \n",
      "Rocky V                               | Rocky VI                          \n",
      "Senhor dos Anéis: A Sociedade do Anel | Senhor dos Anéis: As Duas Torres  \n",
      "Senhor dos Anéis: A Sociedade do Anel | Senhor dos Anéis: O Retorno do Rei\n",
      "Senhor dos Anéis: As Duas Torres      | Senhor dos Anéis: O Retorno do Rei\n",
      "Star Wars: Episódio IV                | Star Wars: Episódio V             \n",
      "Star Wars: Episódio IV                | Star Wars: Episódio VI            \n",
      "Star Wars: Episódio V                 | Star Wars: Episódio VI            \n"
     ]
    }
   ],
   "source": [
    "print(sequel_with_at_most_one_sequel(X, Y).sort())"
   ]
  },
  {
   "cell_type": "markdown",
   "metadata": {},
   "source": [
    "# Exercício 2"
   ]
  },
  {
   "cell_type": "markdown",
   "metadata": {},
   "source": [
    "Considere a relação `flight`. Que contém tuplas do tipo:\n",
    "\n",
    "*`flight(number, from, to, time_leave, time_arrive)`*"
   ]
  },
  {
   "cell_type": "markdown",
   "metadata": {},
   "source": [
    "Primeiro criamos este predicado."
   ]
  },
  {
   "cell_type": "code",
   "execution_count": 24,
   "metadata": {
    "collapsed": false
   },
   "outputs": [],
   "source": [
    "pdl.create_terms('flight')"
   ]
  },
  {
   "cell_type": "markdown",
   "metadata": {},
   "source": [
    "Como precisamos comparar datas, vamos usar o módulo `datetime`."
   ]
  },
  {
   "cell_type": "code",
   "execution_count": 25,
   "metadata": {
    "collapsed": false
   },
   "outputs": [],
   "source": [
    "from datetime import datetime"
   ]
  },
  {
   "cell_type": "markdown",
   "metadata": {},
   "source": [
    "E vamos encapsular as chamadas ao `datetime` com a função `str2time` abaixo."
   ]
  },
  {
   "cell_type": "code",
   "execution_count": 26,
   "metadata": {
    "collapsed": true
   },
   "outputs": [],
   "source": [
    "def str2time(str_time):\n",
    "    today = datetime.today()\n",
    "    str_today = '%d:%d:%d' % (today.year, today.month, today.day)\n",
    "    \n",
    "    return datetime.strptime(str_today + ':' + str_time, '%Y:%m:%d:%H:%M')"
   ]
  },
  {
   "cell_type": "markdown",
   "metadata": {},
   "source": [
    "Que dado um string do tipo `'9:15'`, retorna um objeto to tipo tempo representando o horário 9:15 do dia de hoje."
   ]
  },
  {
   "cell_type": "code",
   "execution_count": 27,
   "metadata": {
    "collapsed": false
   },
   "outputs": [
    {
     "name": "stdout",
     "output_type": "stream",
     "text": [
      "2015-11-03 09:15:00\n"
     ]
    }
   ],
   "source": [
    "print(str2time('9:15'))"
   ]
  },
  {
   "cell_type": "markdown",
   "metadata": {},
   "source": [
    "Podemos popular nosso banco de dados com os dados do enunciado."
   ]
  },
  {
   "cell_type": "code",
   "execution_count": 28,
   "metadata": {
    "collapsed": false
   },
   "outputs": [],
   "source": [
    "+flight(105, 'Chicago'    , 'Pittsburgh' , str2time('8:00') , str2time('9:15') )\n",
    "+flight(104, 'Chicago'    , 'Detroit'    , str2time('8:50') , str2time('9:30') )\n",
    "+flight(107, 'Detroit'    , 'New York'   , str2time('11:00'), str2time('12:30'))\n",
    "+flight(109, 'Pittsburgh' , 'New York'   , str2time('10:00'), str2time('12:00'))\n",
    "+flight(205, 'Chicago'    , 'Las Vegas'  , str2time('14:00'), str2time('17:00'))\n",
    "+flight(101, 'Los Angeles', 'Chicago'    , str2time('5:30') , str2time('7:30') )\n",
    "+flight(201, 'Las Vegas'  , 'Tucson'     , str2time('17:40'), str2time('19:00'))\n",
    "+flight(210, 'Tucson'     , 'Albuquerque', str2time('19:30'), str2time('20:30'))\n",
    "+flight(310, 'Dallas'     , 'Albuquerque', str2time('9:30') , str2time('11:00'))\n",
    "+flight(325, 'Los Angeles', 'Dallas'     , str2time('6:15') , str2time('8:15') )\n",
    "+flight(425, 'Albuquerque', 'Los Angeles', str2time('21:30'), str2time('23:00'))"
   ]
  },
  {
   "cell_type": "markdown",
   "metadata": {},
   "source": [
    "Para as consultas dos itens abaixo, usamos estas variáveis:"
   ]
  },
  {
   "cell_type": "code",
   "execution_count": 29,
   "metadata": {
    "collapsed": true
   },
   "outputs": [],
   "source": [
    "pdl.create_terms('Num, From, To, Tleave, Tarr, At, Dst, Conn, City, NumArr, NumLeave, T2arr, T2leave')"
   ]
  },
  {
   "cell_type": "markdown",
   "metadata": {},
   "source": [
    "E temos as seguintes tuplas no banco gerado."
   ]
  },
  {
   "cell_type": "code",
   "execution_count": 30,
   "metadata": {
    "collapsed": false
   },
   "outputs": [
    {
     "name": "stdout",
     "output_type": "stream",
     "text": [
      "Num | From        | To          | Tleave              | Tarr               \n",
      "----|-------------|-------------|---------------------|--------------------\n",
      "101 | Los Angeles | Chicago     | 2015-11-03 05:30:00 | 2015-11-03 07:30:00\n",
      "104 | Chicago     | Detroit     | 2015-11-03 08:50:00 | 2015-11-03 09:30:00\n",
      "105 | Chicago     | Pittsburgh  | 2015-11-03 08:00:00 | 2015-11-03 09:15:00\n",
      "107 | Detroit     | New York    | 2015-11-03 11:00:00 | 2015-11-03 12:30:00\n",
      "109 | Pittsburgh  | New York    | 2015-11-03 10:00:00 | 2015-11-03 12:00:00\n",
      "201 | Las Vegas   | Tucson      | 2015-11-03 17:40:00 | 2015-11-03 19:00:00\n",
      "205 | Chicago     | Las Vegas   | 2015-11-03 14:00:00 | 2015-11-03 17:00:00\n",
      "210 | Tucson      | Albuquerque | 2015-11-03 19:30:00 | 2015-11-03 20:30:00\n",
      "310 | Dallas      | Albuquerque | 2015-11-03 09:30:00 | 2015-11-03 11:00:00\n",
      "325 | Los Angeles | Dallas      | 2015-11-03 06:15:00 | 2015-11-03 08:15:00\n",
      "425 | Albuquerque | Los Angeles | 2015-11-03 21:30:00 | 2015-11-03 23:00:00\n"
     ]
    }
   ],
   "source": [
    "print(flight(Num, From, To, Tleave, Tarr).sort())"
   ]
  },
  {
   "cell_type": "markdown",
   "metadata": {},
   "source": [
    "### (A)\n",
    "*Encontre todos os números de voos com origem em Los Angeles.*"
   ]
  },
  {
   "cell_type": "markdown",
   "metadata": {},
   "source": [
    "Criamos uma consulta geral `flight_from(From, Num)` que, quando passado o valor `From = 'Los Angeles'`, resolve a consulta pedida."
   ]
  },
  {
   "cell_type": "code",
   "execution_count": 31,
   "metadata": {
    "collapsed": false
   },
   "outputs": [],
   "source": [
    "pdl.create_terms('flight_from')"
   ]
  },
  {
   "cell_type": "code",
   "execution_count": 32,
   "metadata": {
    "collapsed": false
   },
   "outputs": [
    {
     "data": {
      "text/plain": [
       "flight_from(From,Num) <= flight(Num,From,To,Tleave"
      ]
     },
     "execution_count": 32,
     "metadata": {},
     "output_type": "execute_result"
    }
   ],
   "source": [
    "flight_from(From, Num) <= flight(Num, From, To, Tleave, Tarr)"
   ]
  },
  {
   "cell_type": "markdown",
   "metadata": {},
   "source": [
    "A resolução da consulta fica então:"
   ]
  },
  {
   "cell_type": "code",
   "execution_count": 33,
   "metadata": {
    "collapsed": false
   },
   "outputs": [
    {
     "name": "stdout",
     "output_type": "stream",
     "text": [
      "Num\n",
      "---\n",
      "101\n",
      "325\n"
     ]
    }
   ],
   "source": [
    "print(flight_from('Los Angeles', Num).sort())"
   ]
  },
  {
   "cell_type": "markdown",
   "metadata": {},
   "source": [
    "### (B)\n",
    "*Encontre os números de todos os voos que saem de Chicago depois que o voo 101 chega em Chicago mas que saem antes de 1 hora depois da chegada desse voo.*"
   ]
  },
  {
   "cell_type": "markdown",
   "metadata": {},
   "source": [
    "Criamos uma consulta mais geral `leave_city_at_most_1hour_after_flight_arrival(City, NumArr, NumLeave)`. Quando aplicada em\n",
    "`leave_city_at_most_1hour_after_flight_arrival(\"Chicago\", 101, NumLeave)`, retorna os valores de `NumLeave` que resolvem a consulta pedida no enunciado. "
   ]
  },
  {
   "cell_type": "code",
   "execution_count": 34,
   "metadata": {
    "collapsed": true
   },
   "outputs": [],
   "source": [
    "pdl.create_terms('leave_city_at_most_1hour_after_flight_arrival')"
   ]
  },
  {
   "cell_type": "markdown",
   "metadata": {},
   "source": [
    "Como precisamos somar 1 hora a valores de tempo para fazer comparações, usaremos um objeto do tipo `datetime.timedelta`."
   ]
  },
  {
   "cell_type": "code",
   "execution_count": 35,
   "metadata": {
    "collapsed": true
   },
   "outputs": [],
   "source": [
    "from datetime import timedelta"
   ]
  },
  {
   "cell_type": "code",
   "execution_count": 36,
   "metadata": {
    "collapsed": true
   },
   "outputs": [],
   "source": [
    "one_hour = timedelta(hours=1)"
   ]
  },
  {
   "cell_type": "code",
   "execution_count": 37,
   "metadata": {
    "collapsed": false
   },
   "outputs": [
    {
     "data": {
      "text/plain": [
       "leave_city_at_most_1hour_after_flight_arrival(City"
      ]
     },
     "execution_count": 37,
     "metadata": {},
     "output_type": "execute_result"
    }
   ],
   "source": [
    "leave_city_at_most_1hour_after_flight_arrival(City, NumArr, NumLeave) <=                     \\\n",
    "    flight(NumLeave, City, To, Tleave, Tarr) & flight(NumArr, From, City, T2leave, T2arr) &  \\\n",
    "    (Tleave >= T2arr) & (Tleave <= T2arr + one_hour)"
   ]
  },
  {
   "cell_type": "markdown",
   "metadata": {},
   "source": [
    "A resolução da consulta é dada abaixo."
   ]
  },
  {
   "cell_type": "code",
   "execution_count": 38,
   "metadata": {
    "collapsed": false
   },
   "outputs": [
    {
     "name": "stdout",
     "output_type": "stream",
     "text": [
      "NumLeave\n",
      "--------\n",
      "105     \n"
     ]
    }
   ],
   "source": [
    "print(leave_city_at_most_1hour_after_flight_arrival('Chicago', 101, NumLeave).sort())"
   ]
  },
  {
   "cell_type": "markdown",
   "metadata": {},
   "source": [
    "### (C)\n",
    "*Encontre todos os números de voos que não saem de Chicago.*"
   ]
  },
  {
   "cell_type": "markdown",
   "metadata": {},
   "source": [
    "Novamente, criamos uma consulta mais geral, `not_from(City, Num)`. Quando aplicada sobre `not_from(\"Chicago\", Num)`, devolve os valores de `Num` que satisfazem a consulta pedida no enunciado."
   ]
  },
  {
   "cell_type": "code",
   "execution_count": 39,
   "metadata": {
    "collapsed": true
   },
   "outputs": [],
   "source": [
    "pdl.create_terms('not_from')"
   ]
  },
  {
   "cell_type": "code",
   "execution_count": 40,
   "metadata": {
    "collapsed": false
   },
   "outputs": [
    {
     "data": {
      "text/plain": [
       "not_from(City,Num) <= flight(Num,From,To,Tleave,Ta"
      ]
     },
     "execution_count": 40,
     "metadata": {},
     "output_type": "execute_result"
    }
   ],
   "source": [
    "not_from(City, Num) <= flight(Num, From, To, Tleave, Tarr) & (From != City)"
   ]
  },
  {
   "cell_type": "code",
   "execution_count": 41,
   "metadata": {
    "collapsed": false
   },
   "outputs": [
    {
     "name": "stdout",
     "output_type": "stream",
     "text": [
      "Num\n",
      "---\n",
      "101\n",
      "107\n",
      "109\n",
      "201\n",
      "210\n",
      "310\n",
      "325\n",
      "425\n"
     ]
    }
   ],
   "source": [
    "print(not_from('Chicago', Num).sort())"
   ]
  },
  {
   "cell_type": "markdown",
   "metadata": {},
   "source": [
    "### (D)\n",
    "*Encontre todas as cidades possíveis de se alcançar a partir de Chicago fazendo uma conexão em Detroit.*"
   ]
  },
  {
   "cell_type": "markdown",
   "metadata": {},
   "source": [
    "Primeiro criamos uma consulta auxiliar `reachable_from_at(From, Conn, Dst, At)` em que, a partir de `From`, fazendo conexão em `Conn`, é possível chegar em `Dst` no horário `At`. O horário de chegada é necessário nesse predicado para podermos garantir consistência entre horário de chegada e saída de um aeroporto."
   ]
  },
  {
   "cell_type": "code",
   "execution_count": 43,
   "metadata": {
    "collapsed": false
   },
   "outputs": [],
   "source": [
    "pdl.create_terms('reachable_from_at')"
   ]
  },
  {
   "cell_type": "code",
   "execution_count": 45,
   "metadata": {
    "collapsed": false
   },
   "outputs": [
    {
     "data": {
      "text/plain": [
       "reachable_from_at(From,Conn,Dst,At) <= flight(Num,"
      ]
     },
     "execution_count": 45,
     "metadata": {},
     "output_type": "execute_result"
    }
   ],
   "source": [
    "reachable_from_at(From, Conn, Dst, At) <= flight(Num, From, Dst, Tleave, At) & (Conn == Dst)"
   ]
  },
  {
   "cell_type": "code",
   "execution_count": 48,
   "metadata": {
    "collapsed": false
   },
   "outputs": [
    {
     "data": {
      "text/plain": [
       "reachable_from_at(From,Conn,Dst,At) <= reachable_f"
      ]
     },
     "execution_count": 48,
     "metadata": {},
     "output_type": "execute_result"
    }
   ],
   "source": [
    "reachable_from_at(From, Conn, Dst, At) <= reachable_from_at(From, X, Conn, Tarr) & \\\n",
    "    flight(Num, Conn, Dst, T2leave, At) & (Tarr <= T2leave)"
   ]
  },
  {
   "cell_type": "markdown",
   "metadata": {},
   "source": [
    "O resultado da consulta pedida no enunciado pode ser visto abaixo."
   ]
  },
  {
   "cell_type": "code",
   "execution_count": 51,
   "metadata": {
    "collapsed": false
   },
   "outputs": [
    {
     "name": "stdout",
     "output_type": "stream",
     "text": [
      "Dst      | At                 \n",
      "---------|--------------------\n",
      "Detroit  | 2015-11-03 09:30:00\n",
      "New York | 2015-11-03 12:30:00\n"
     ]
    }
   ],
   "source": [
    "print(reachable_from_at(\"Chicago\", \"Detroit\", Dst, At).sort())"
   ]
  },
  {
   "cell_type": "markdown",
   "metadata": {},
   "source": [
    "### (E)\n",
    "*Encontre todas as cidades que se pode alcançar a partir de Chicago por voo direto ou por uma ou mais conexões. Mas que não se gaste mais de uma hora esperando pela conexão.*"
   ]
  },
  {
   "cell_type": "markdown",
   "metadata": {},
   "source": [
    "Criamos o predicado `reachable_bounded_time_conn(From, To)` que contém as duplas tais que pode-se chegar de `From` a `To` sem esperar mais do que uma hora em uma conexão."
   ]
  },
  {
   "cell_type": "code",
   "execution_count": 54,
   "metadata": {
    "collapsed": true
   },
   "outputs": [],
   "source": [
    "pdl.create_terms('reachable_bounded_time_conn')"
   ]
  },
  {
   "cell_type": "code",
   "execution_count": 56,
   "metadata": {
    "collapsed": false
   },
   "outputs": [
    {
     "data": {
      "text/plain": [
       "reachable_bounded_time_conn(From,To) <= flight(Num"
      ]
     },
     "execution_count": 56,
     "metadata": {},
     "output_type": "execute_result"
    }
   ],
   "source": [
    "reachable_bounded_time_conn(From, To) <= flight(Num, From, To, Tleave, Tarr)"
   ]
  },
  {
   "cell_type": "code",
   "execution_count": 57,
   "metadata": {
    "collapsed": false
   },
   "outputs": [
    {
     "data": {
      "text/plain": [
       "reachable_bounded_time_conn(From,To) <= reachable_"
      ]
     },
     "execution_count": 57,
     "metadata": {},
     "output_type": "execute_result"
    }
   ],
   "source": [
    "reachable_bounded_time_conn(From, To) <= reachable_from_at(From, Conn, Dst, At) & \\\n",
    "    flight(Num, Dst, To, Tleave, Tarr) & (Tleave >= At) & (Tleave <= At + one_hour)"
   ]
  },
  {
   "cell_type": "code",
   "execution_count": 67,
   "metadata": {
    "collapsed": false
   },
   "outputs": [
    {
     "name": "stdout",
     "output_type": "stream",
     "text": [
      "To         \n",
      "-----------\n",
      "Albuquerque\n",
      "Detroit    \n",
      "Las Vegas  \n",
      "Los Angeles\n",
      "New York   \n",
      "Pittsburgh \n",
      "Tucson     \n"
     ]
    }
   ],
   "source": [
    "print(reachable_bounded_time_conn(\"Chicago\", To).sort())"
   ]
  },
  {
   "cell_type": "markdown",
   "metadata": {},
   "source": [
    "### (F)\n",
    "*Encontre o número de todos os voos que não partem de Chicago ou de uma cidade que é possível alcançar a partir de Chicago.*"
   ]
  },
  {
   "cell_type": "markdown",
   "metadata": {},
   "source": [
    "Criamos o predicado `unreacheable_flights(Num, City)` que contém as duplas tais que `Num` é número de um voo que não se pode alcançar a partir da cidade `City`."
   ]
  },
  {
   "cell_type": "code",
   "execution_count": 62,
   "metadata": {
    "collapsed": true
   },
   "outputs": [],
   "source": [
    "pdl.create_terms('unreacheable_flights')"
   ]
  },
  {
   "cell_type": "code",
   "execution_count": 63,
   "metadata": {
    "collapsed": false
   },
   "outputs": [
    {
     "data": {
      "text/plain": [
       "unreacheable_flights(Num,City) <= flight(Num,From,"
      ]
     },
     "execution_count": 63,
     "metadata": {},
     "output_type": "execute_result"
    }
   ],
   "source": [
    "unreacheable_flights(Num, City) <= flight(Num, From, To, Tleave, Tarr) & \\\n",
    "    (From != City) & ~reachable_from_at(From, Conn, From, At)"
   ]
  },
  {
   "cell_type": "code",
   "execution_count": 64,
   "metadata": {
    "collapsed": false
   },
   "outputs": [
    {
     "name": "stdout",
     "output_type": "stream",
     "text": [
      "Num\n",
      "---\n",
      "107\n",
      "109\n",
      "201\n",
      "210\n",
      "310\n",
      "425\n"
     ]
    }
   ],
   "source": [
    "print(unreacheable_flights(Num, \"Chicago\").sort())"
   ]
  }
 ],
 "metadata": {
  "kernelspec": {
   "display_name": "Python 3",
   "language": "python",
   "name": "python3"
  },
  "language_info": {
   "codemirror_mode": {
    "name": "ipython",
    "version": 3
   },
   "file_extension": ".py",
   "mimetype": "text/x-python",
   "name": "python",
   "nbconvert_exporter": "python",
   "pygments_lexer": "ipython3",
   "version": "3.5.0"
  }
 },
 "nbformat": 4,
 "nbformat_minor": 0
}
