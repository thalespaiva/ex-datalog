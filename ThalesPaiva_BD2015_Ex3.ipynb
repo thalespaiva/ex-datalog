{
 "cells": [
  {
   "cell_type": "markdown",
   "metadata": {},
   "source": [
    "MAC5861 - Modelagem de Banco de Dados 2015  (Profa. Kelly R. Bragheto)"
   ]
  },
  {
   "cell_type": "markdown",
   "metadata": {},
   "source": [
    "Resolução da Lista de Exercícios III"
   ]
  },
  {
   "cell_type": "markdown",
   "metadata": {},
   "source": [
    "Thales A. B. Paiva (thalespaiva@gmail.com) "
   ]
  },
  {
   "cell_type": "markdown",
   "metadata": {},
   "source": [
    "# Exercício 1"
   ]
  },
  {
   "cell_type": "markdown",
   "metadata": {},
   "source": [
    "Considere a relação `direct_sequel(Film, Sequel)` que armazena tuplas `(m, s)` em que `t` é o título de um filme e `s` é o título de uma sequência imediata de `t`. Considere que podemos ter mais de uma sequência imediata de um mesmo filme. "
   ]
  },
  {
   "cell_type": "markdown",
   "metadata": {},
   "source": [
    "Define-se uma relação continuação, representada por `sequel`, tal que uma dupla `(t, c)` está em `sequel` se:\n",
    "* `c` é sequência imediata de `t`\n",
    "* `c` é sequência de uma sequência de uma sequência imediata de `t`"
   ]
  },
  {
   "cell_type": "markdown",
   "metadata": {},
   "source": [
    "## Resolução"
   ]
  },
  {
   "cell_type": "markdown",
   "metadata": {},
   "source": [
    "Resolvemos este exercício em Python usando o módulo `pyDatalog` (em <https://sites.google.com/site/pydatalog/home>)."
   ]
  },
  {
   "cell_type": "code",
   "execution_count": 1,
   "metadata": {
    "collapsed": true
   },
   "outputs": [],
   "source": [
    "from pyDatalog import pyDatalog as pdl"
   ]
  },
  {
   "cell_type": "markdown",
   "metadata": {},
   "source": [
    "Vamos incializar nossa relação `direct_sequel`."
   ]
  },
  {
   "cell_type": "code",
   "execution_count": 2,
   "metadata": {
    "collapsed": true
   },
   "outputs": [],
   "source": [
    "pdl.create_terms('direct_sequel')"
   ]
  },
  {
   "cell_type": "markdown",
   "metadata": {},
   "source": [
    "Agora colocamos algumas tuplas:"
   ]
  },
  {
   "cell_type": "code",
   "execution_count": 3,
   "metadata": {
    "collapsed": true
   },
   "outputs": [],
   "source": [
    "+direct_sequel('Rocky I', 'Rocky II')\n",
    "+direct_sequel('Rocky II', 'Rocky III')\n",
    "+direct_sequel('Rocky III', 'Rocky IV')\n",
    "+direct_sequel('Rocky IV', 'Rocky V')\n",
    "+direct_sequel('Rocky V', 'Rocky VI')\n",
    "+direct_sequel('Esqueceram de Mim 1', 'Esqueceram de Mim 2')\n",
    "+direct_sequel('Esqueceram de Mim 2', 'Esqueceram de Mim 3')\n",
    "+direct_sequel('Esqueceram de Mim 3', 'Esqueceram de Mim 4')\n",
    "+direct_sequel('Esqueceram de Mim 4', 'Esqueceram de Mim 5')\n",
    "+direct_sequel('Star Wars: Episódio IV', 'Star Wars: Episódio V')\n",
    "+direct_sequel('Star Wars: Episódio V', 'Star Wars: Episódio VI')\n",
    "+direct_sequel('Senhor dos Anéis: A Sociedade do Anel', 'Senhor dos Anéis: As Duas Torres')\n",
    "+direct_sequel('Senhor dos Anéis: As Duas Torres', 'Senhor dos Anéis: O Retorno do Rei')\n",
    "+direct_sequel('Filme X', 'Filme X.1')\n",
    "+direct_sequel('Filme X', 'Filme X.2')\n",
    "+direct_sequel('Filme Y', 'Filme Y.1')\n",
    "+direct_sequel('Filme Y.1', 'Filme Y.1.1')\n",
    "+direct_sequel('Filme Y.1', 'Filme Y.1.2')"
   ]
  },
  {
   "cell_type": "markdown",
   "metadata": {},
   "source": [
    "Precisamos de duas variáveis para fazer a consulta."
   ]
  },
  {
   "cell_type": "code",
   "execution_count": 4,
   "metadata": {
    "collapsed": true
   },
   "outputs": [],
   "source": [
    "pdl.create_terms('X, Y')"
   ]
  },
  {
   "cell_type": "markdown",
   "metadata": {},
   "source": [
    "E temos a seguinte tabela:"
   ]
  },
  {
   "cell_type": "code",
   "execution_count": 5,
   "metadata": {
    "collapsed": false
   },
   "outputs": [
    {
     "name": "stdout",
     "output_type": "stream",
     "text": [
      "X                                     | Y                                 \n",
      "--------------------------------------|-----------------------------------\n",
      "Esqueceram de Mim 1                   | Esqueceram de Mim 2               \n",
      "Esqueceram de Mim 2                   | Esqueceram de Mim 3               \n",
      "Esqueceram de Mim 3                   | Esqueceram de Mim 4               \n",
      "Esqueceram de Mim 4                   | Esqueceram de Mim 5               \n",
      "Filme X                               | Filme X.1                         \n",
      "Filme X                               | Filme X.2                         \n",
      "Filme Y                               | Filme Y.1                         \n",
      "Filme Y.1                             | Filme Y.1.1                       \n",
      "Filme Y.1                             | Filme Y.1.2                       \n",
      "Rocky I                               | Rocky II                          \n",
      "Rocky II                              | Rocky III                         \n",
      "Rocky III                             | Rocky IV                          \n",
      "Rocky IV                              | Rocky V                           \n",
      "Rocky V                               | Rocky VI                          \n",
      "Senhor dos Anéis: A Sociedade do Anel | Senhor dos Anéis: As Duas Torres  \n",
      "Senhor dos Anéis: As Duas Torres      | Senhor dos Anéis: O Retorno do Rei\n",
      "Star Wars: Episódio IV                | Star Wars: Episódio V             \n",
      "Star Wars: Episódio V                 | Star Wars: Episódio VI            \n"
     ]
    }
   ],
   "source": [
    "print(direct_sequel(X, Y).sort())"
   ]
  },
  {
   "cell_type": "markdown",
   "metadata": {},
   "source": [
    "Estamos aptos a escrever as consultas do **item A** ao **item F**."
   ]
  },
  {
   "cell_type": "markdown",
   "metadata": {},
   "source": [
    "#### (A) Escreva uma consulta que retorne os pares `(x, y)` tais que `y` é continuação de `x`."
   ]
  },
  {
   "cell_type": "markdown",
   "metadata": {},
   "source": [
    "Chamaremos esta consulta (ou predicado) de `sequel(X, Y)`. Precisamos criá-la."
   ]
  },
  {
   "cell_type": "code",
   "execution_count": 6,
   "metadata": {
    "collapsed": true
   },
   "outputs": [],
   "source": [
    "pdl.create_terms('sequel')"
   ]
  },
  {
   "cell_type": "markdown",
   "metadata": {},
   "source": [
    "E precisamos de três variáveis, digamos `X`, `Y`, e `Z`, para definí-la."
   ]
  },
  {
   "cell_type": "code",
   "execution_count": 7,
   "metadata": {
    "collapsed": true
   },
   "outputs": [],
   "source": [
    "pdl.create_terms('X, Y, Z')"
   ]
  },
  {
   "cell_type": "markdown",
   "metadata": {},
   "source": [
    "Pela definição de continuação, `sequel`, dada no enunciado, temos:"
   ]
  },
  {
   "cell_type": "code",
   "execution_count": 8,
   "metadata": {
    "collapsed": false
   },
   "outputs": [
    {
     "data": {
      "text/plain": [
       "sequel(X,Y) <= direct_sequel(X,Y)"
      ]
     },
     "execution_count": 8,
     "metadata": {},
     "output_type": "execute_result"
    }
   ],
   "source": [
    "sequel(X, Y) <= direct_sequel(X, Y)"
   ]
  },
  {
   "cell_type": "code",
   "execution_count": 9,
   "metadata": {
    "collapsed": false
   },
   "outputs": [
    {
     "data": {
      "text/plain": [
       "sequel(X,Y) <= direct_sequel(X,Z)&sequel(Z,Y)"
      ]
     },
     "execution_count": 9,
     "metadata": {},
     "output_type": "execute_result"
    }
   ],
   "source": [
    "sequel(X, Y) <= direct_sequel(X, Z) & sequel(Z, Y)"
   ]
  },
  {
   "cell_type": "markdown",
   "metadata": {},
   "source": [
    "Abaixo, vemos a tabela gerada por esta consulta."
   ]
  },
  {
   "cell_type": "code",
   "execution_count": 10,
   "metadata": {
    "collapsed": false
   },
   "outputs": [
    {
     "name": "stdout",
     "output_type": "stream",
     "text": [
      "X                                     | Y                                 \n",
      "--------------------------------------|-----------------------------------\n",
      "Esqueceram de Mim 1                   | Esqueceram de Mim 2               \n",
      "Esqueceram de Mim 1                   | Esqueceram de Mim 3               \n",
      "Esqueceram de Mim 1                   | Esqueceram de Mim 4               \n",
      "Esqueceram de Mim 1                   | Esqueceram de Mim 5               \n",
      "Esqueceram de Mim 2                   | Esqueceram de Mim 3               \n",
      "Esqueceram de Mim 2                   | Esqueceram de Mim 4               \n",
      "Esqueceram de Mim 2                   | Esqueceram de Mim 5               \n",
      "Esqueceram de Mim 3                   | Esqueceram de Mim 4               \n",
      "Esqueceram de Mim 3                   | Esqueceram de Mim 5               \n",
      "Esqueceram de Mim 4                   | Esqueceram de Mim 5               \n",
      "Filme X                               | Filme X.1                         \n",
      "Filme X                               | Filme X.2                         \n",
      "Filme Y                               | Filme Y.1                         \n",
      "Filme Y                               | Filme Y.1.1                       \n",
      "Filme Y                               | Filme Y.1.2                       \n",
      "Filme Y.1                             | Filme Y.1.1                       \n",
      "Filme Y.1                             | Filme Y.1.2                       \n",
      "Rocky I                               | Rocky II                          \n",
      "Rocky I                               | Rocky III                         \n",
      "Rocky I                               | Rocky IV                          \n",
      "Rocky I                               | Rocky V                           \n",
      "Rocky I                               | Rocky VI                          \n",
      "Rocky II                              | Rocky III                         \n",
      "Rocky II                              | Rocky IV                          \n",
      "Rocky II                              | Rocky V                           \n",
      "Rocky II                              | Rocky VI                          \n",
      "Rocky III                             | Rocky IV                          \n",
      "Rocky III                             | Rocky V                           \n",
      "Rocky III                             | Rocky VI                          \n",
      "Rocky IV                              | Rocky V                           \n",
      "Rocky IV                              | Rocky VI                          \n",
      "Rocky V                               | Rocky VI                          \n",
      "Senhor dos Anéis: A Sociedade do Anel | Senhor dos Anéis: As Duas Torres  \n",
      "Senhor dos Anéis: A Sociedade do Anel | Senhor dos Anéis: O Retorno do Rei\n",
      "Senhor dos Anéis: As Duas Torres      | Senhor dos Anéis: O Retorno do Rei\n",
      "Star Wars: Episódio IV                | Star Wars: Episódio V             \n",
      "Star Wars: Episódio IV                | Star Wars: Episódio VI            \n",
      "Star Wars: Episódio V                 | Star Wars: Episódio VI            \n"
     ]
    }
   ],
   "source": [
    "print(sequel(X, Y).sort())"
   ]
  },
  {
   "cell_type": "markdown",
   "metadata": {},
   "source": [
    "#### (B) Escreva uma consulta que retorne os pares `(x, y)` tais que `y` é continuação de `x` mas não uma sequência imediata de `x`."
   ]
  },
  {
   "cell_type": "markdown",
   "metadata": {},
   "source": [
    "Chamaremos esta consulta de `super_sequel` e precisamos de duas variáveis para definí-la."
   ]
  },
  {
   "cell_type": "code",
   "execution_count": 11,
   "metadata": {
    "collapsed": false
   },
   "outputs": [],
   "source": [
    "pdl.create_terms('super_sequel, X, Y')"
   ]
  },
  {
   "cell_type": "code",
   "execution_count": 12,
   "metadata": {
    "collapsed": false
   },
   "outputs": [
    {
     "data": {
      "text/plain": [
       "super_sequel(X,Y) <= sequel(X,Y)&~direct_sequel(X,"
      ]
     },
     "execution_count": 12,
     "metadata": {},
     "output_type": "execute_result"
    }
   ],
   "source": [
    "super_sequel(X, Y) <= sequel(X, Y) & ~direct_sequel(X, Y)"
   ]
  },
  {
   "cell_type": "markdown",
   "metadata": {},
   "source": [
    "E esta consulta gera a table abaixo."
   ]
  },
  {
   "cell_type": "code",
   "execution_count": 13,
   "metadata": {
    "collapsed": false
   },
   "outputs": [
    {
     "name": "stdout",
     "output_type": "stream",
     "text": [
      "X                                     | Y                                 \n",
      "--------------------------------------|-----------------------------------\n",
      "Esqueceram de Mim 1                   | Esqueceram de Mim 3               \n",
      "Esqueceram de Mim 1                   | Esqueceram de Mim 4               \n",
      "Esqueceram de Mim 1                   | Esqueceram de Mim 5               \n",
      "Esqueceram de Mim 2                   | Esqueceram de Mim 4               \n",
      "Esqueceram de Mim 2                   | Esqueceram de Mim 5               \n",
      "Esqueceram de Mim 3                   | Esqueceram de Mim 5               \n",
      "Filme Y                               | Filme Y.1.1                       \n",
      "Filme Y                               | Filme Y.1.2                       \n",
      "Rocky I                               | Rocky III                         \n",
      "Rocky I                               | Rocky IV                          \n",
      "Rocky I                               | Rocky V                           \n",
      "Rocky I                               | Rocky VI                          \n",
      "Rocky II                              | Rocky IV                          \n",
      "Rocky II                              | Rocky V                           \n",
      "Rocky II                              | Rocky VI                          \n",
      "Rocky III                             | Rocky V                           \n",
      "Rocky III                             | Rocky VI                          \n",
      "Rocky IV                              | Rocky VI                          \n",
      "Senhor dos Anéis: A Sociedade do Anel | Senhor dos Anéis: O Retorno do Rei\n",
      "Star Wars: Episódio IV                | Star Wars: Episódio VI            \n"
     ]
    }
   ],
   "source": [
    "print(super_sequel(X, Y).sort())"
   ]
  },
  {
   "cell_type": "markdown",
   "metadata": {},
   "source": [
    "#### (C) Escreva uma consulta que retorne os pares `(x, y)` tais que `y` é continuação de `x` mas não uma sequência imediata de `x`, nem uma sequência imediata de uma sequência imediata de `x`."
   ]
  },
  {
   "cell_type": "markdown",
   "metadata": {},
   "source": [
    "Chamaremos esta consulta de `mega_sequel` e precisamos de duas variáveis para definí-la."
   ]
  },
  {
   "cell_type": "code",
   "execution_count": 14,
   "metadata": {
    "collapsed": true
   },
   "outputs": [],
   "source": [
    "pdl.create_terms('mega_sequel, X, Y')"
   ]
  },
  {
   "cell_type": "code",
   "execution_count": 15,
   "metadata": {
    "collapsed": false
   },
   "outputs": [
    {
     "data": {
      "text/plain": [
       "mega_sequel(X,Y) <= direct_sequel(X,Z)&super_seque"
      ]
     },
     "execution_count": 15,
     "metadata": {},
     "output_type": "execute_result"
    }
   ],
   "source": [
    "mega_sequel(X, Y) <= direct_sequel(X, Z) & super_sequel(Z, Y)"
   ]
  },
  {
   "cell_type": "code",
   "execution_count": 16,
   "metadata": {
    "collapsed": false
   },
   "outputs": [
    {
     "name": "stdout",
     "output_type": "stream",
     "text": [
      "X                   | Y                  \n",
      "--------------------|--------------------\n",
      "Esqueceram de Mim 1 | Esqueceram de Mim 4\n",
      "Esqueceram de Mim 1 | Esqueceram de Mim 5\n",
      "Esqueceram de Mim 2 | Esqueceram de Mim 5\n",
      "Rocky I             | Rocky IV           \n",
      "Rocky I             | Rocky V            \n",
      "Rocky I             | Rocky VI           \n",
      "Rocky II            | Rocky V            \n",
      "Rocky II            | Rocky VI           \n",
      "Rocky III           | Rocky VI           \n"
     ]
    }
   ],
   "source": [
    "print(mega_sequel(X,Y).sort())"
   ]
  },
  {
   "cell_type": "markdown",
   "metadata": {},
   "source": [
    "#### (D) Escreva uma consulta que retorne o conjunto de filmes `x` que possuem pelo menos duas sequências diretas."
   ]
  },
  {
   "cell_type": "markdown",
   "metadata": {},
   "source": [
    "Chamaremos esta consulta de `has_at_least_2_sequels`."
   ]
  },
  {
   "cell_type": "code",
   "execution_count": 17,
   "metadata": {
    "collapsed": true
   },
   "outputs": [],
   "source": [
    "pdl.create_terms('has_at_least_2_direct_sequels')"
   ]
  },
  {
   "cell_type": "code",
   "execution_count": 18,
   "metadata": {
    "collapsed": false
   },
   "outputs": [
    {
     "data": {
      "text/plain": [
       "has_at_least_2_direct_sequels(X) <= direct_sequel("
      ]
     },
     "execution_count": 18,
     "metadata": {},
     "output_type": "execute_result"
    }
   ],
   "source": [
    "has_at_least_2_direct_sequels(X) <= direct_sequel(X, Y) & direct_sequel(X, Z) & (Y != Z)"
   ]
  },
  {
   "cell_type": "code",
   "execution_count": 19,
   "metadata": {
    "collapsed": false
   },
   "outputs": [
    {
     "name": "stdout",
     "output_type": "stream",
     "text": [
      "X        \n",
      "---------\n",
      "Filme X  \n",
      "Filme Y.1\n"
     ]
    }
   ],
   "source": [
    "print(has_at_least_2_direct_sequels(X))"
   ]
  },
  {
   "cell_type": "markdown",
   "metadata": {},
   "source": [
    "#### (E) Escreva uma consulta que retorne o conjunto de filmes `x` que possuem pelo menos duas continuações."
   ]
  },
  {
   "cell_type": "markdown",
   "metadata": {},
   "source": [
    "Chamamos esta consulta de `has_at_least_2_sequels`."
   ]
  },
  {
   "cell_type": "code",
   "execution_count": 20,
   "metadata": {
    "collapsed": true
   },
   "outputs": [],
   "source": [
    "pdl.create_terms('has_at_least_2_sequels')"
   ]
  },
  {
   "cell_type": "code",
   "execution_count": 21,
   "metadata": {
    "collapsed": false
   },
   "outputs": [
    {
     "data": {
      "text/plain": [
       "has_at_least_2_sequels(X) <= sequel(X,Y)&sequel(X,"
      ]
     },
     "execution_count": 21,
     "metadata": {},
     "output_type": "execute_result"
    }
   ],
   "source": [
    "has_at_least_2_sequels(X) <= sequel(X, Y) & sequel(X, Z) & (Y != Z)"
   ]
  },
  {
   "cell_type": "code",
   "execution_count": 22,
   "metadata": {
    "collapsed": false
   },
   "outputs": [
    {
     "name": "stdout",
     "output_type": "stream",
     "text": [
      "X                                    \n",
      "-------------------------------------\n",
      "Esqueceram de Mim 1                  \n",
      "Esqueceram de Mim 2                  \n",
      "Esqueceram de Mim 3                  \n",
      "Filme X                              \n",
      "Filme Y                              \n",
      "Filme Y.1                            \n",
      "Rocky I                              \n",
      "Rocky II                             \n",
      "Rocky III                            \n",
      "Rocky IV                             \n",
      "Senhor dos Anéis: A Sociedade do Anel\n",
      "Star Wars: Episódio IV               \n"
     ]
    }
   ],
   "source": [
    "print(has_at_least_2_sequels(X).sort())"
   ]
  },
  {
   "cell_type": "markdown",
   "metadata": {},
   "source": [
    "#### (F) Escreva uma consulta que retorne o conjunto de pares de filmes `(x, y)` tais que `y` é uma continuação de ` x` e `y` tem no máximo uma continuação."
   ]
  },
  {
   "cell_type": "markdown",
   "metadata": {},
   "source": [
    "Chamaremos esta consulta de `sequel_with_at_most_one_sequel`"
   ]
  },
  {
   "cell_type": "code",
   "execution_count": 23,
   "metadata": {
    "collapsed": true
   },
   "outputs": [],
   "source": [
    "pdl.create_terms('sequel_with_at_most_one_sequel, W')"
   ]
  },
  {
   "cell_type": "code",
   "execution_count": 24,
   "metadata": {
    "collapsed": false
   },
   "outputs": [
    {
     "data": {
      "text/plain": [
       "sequel_with_at_most_one_sequel(X,Y) <= sequel(X,Y)"
      ]
     },
     "execution_count": 24,
     "metadata": {},
     "output_type": "execute_result"
    }
   ],
   "source": [
    "sequel_with_at_most_one_sequel(X, Y) <= sequel(X, Y) & ~has_at_least_2_sequels(Y)"
   ]
  },
  {
   "cell_type": "code",
   "execution_count": 25,
   "metadata": {
    "collapsed": false
   },
   "outputs": [
    {
     "name": "stdout",
     "output_type": "stream",
     "text": [
      "X                                     | Y                                 \n",
      "--------------------------------------|-----------------------------------\n",
      "Esqueceram de Mim 1                   | Esqueceram de Mim 4               \n",
      "Esqueceram de Mim 1                   | Esqueceram de Mim 5               \n",
      "Esqueceram de Mim 2                   | Esqueceram de Mim 4               \n",
      "Esqueceram de Mim 2                   | Esqueceram de Mim 5               \n",
      "Esqueceram de Mim 3                   | Esqueceram de Mim 4               \n",
      "Esqueceram de Mim 3                   | Esqueceram de Mim 5               \n",
      "Esqueceram de Mim 4                   | Esqueceram de Mim 5               \n",
      "Filme X                               | Filme X.1                         \n",
      "Filme X                               | Filme X.2                         \n",
      "Filme Y                               | Filme Y.1.1                       \n",
      "Filme Y                               | Filme Y.1.2                       \n",
      "Filme Y.1                             | Filme Y.1.1                       \n",
      "Filme Y.1                             | Filme Y.1.2                       \n",
      "Rocky I                               | Rocky V                           \n",
      "Rocky I                               | Rocky VI                          \n",
      "Rocky II                              | Rocky V                           \n",
      "Rocky II                              | Rocky VI                          \n",
      "Rocky III                             | Rocky V                           \n",
      "Rocky III                             | Rocky VI                          \n",
      "Rocky IV                              | Rocky V                           \n",
      "Rocky IV                              | Rocky VI                          \n",
      "Rocky V                               | Rocky VI                          \n",
      "Senhor dos Anéis: A Sociedade do Anel | Senhor dos Anéis: As Duas Torres  \n",
      "Senhor dos Anéis: A Sociedade do Anel | Senhor dos Anéis: O Retorno do Rei\n",
      "Senhor dos Anéis: As Duas Torres      | Senhor dos Anéis: O Retorno do Rei\n",
      "Star Wars: Episódio IV                | Star Wars: Episódio V             \n",
      "Star Wars: Episódio IV                | Star Wars: Episódio VI            \n",
      "Star Wars: Episódio V                 | Star Wars: Episódio VI            \n"
     ]
    }
   ],
   "source": [
    "print(sequel_with_at_most_one_sequel(X, Y).sort())"
   ]
  },
  {
   "cell_type": "markdown",
   "metadata": {},
   "source": [
    "# Exercício 2"
   ]
  },
  {
   "cell_type": "code",
   "execution_count": 26,
   "metadata": {
    "collapsed": false
   },
   "outputs": [],
   "source": [
    "pdl.create_terms('flight')"
   ]
  },
  {
   "cell_type": "code",
   "execution_count": 27,
   "metadata": {
    "collapsed": false
   },
   "outputs": [],
   "source": [
    "from datetime import datetime"
   ]
  },
  {
   "cell_type": "code",
   "execution_count": 28,
   "metadata": {
    "collapsed": true
   },
   "outputs": [],
   "source": [
    "def str2time(str_time):\n",
    "    today = datetime.today()\n",
    "    str_today = '%d:%d:%d' % (today.year, today.month, today.day)\n",
    "    return datetime.strptime(str_today + ':' + str_time, '%Y:%m:%d:%H:%M')"
   ]
  },
  {
   "cell_type": "code",
   "execution_count": 29,
   "metadata": {
    "collapsed": false
   },
   "outputs": [],
   "source": [
    "+flight(105, 'Chicago', 'Pittsburgh', str2time('8:00'), str2time('9:15'))\n",
    "+flight(104, 'Chicago', 'Detroit', str2time('8:50'), str2time('9:30'))\n",
    "+flight(107, 'Detroit', 'New York', str2time('11:00'), str2time('12:30'))\n",
    "+flight(109, 'Pittsburgh', 'New York', str2time('10:00'), str2time('12:00'))\n",
    "+flight(205, 'Chicago', 'Las Vegas', str2time('14:00'), str2time('17:00'))\n",
    "+flight(101, 'Los Angeles', 'Chicago', str2time('5:30'), str2time('7:30'))\n",
    "+flight(201, 'Las Vegas', 'Tucson', str2time('17:40'), str2time('19:00'))\n",
    "+flight(210, 'Tucson', 'Albuquerque', str2time('19:30'), str2time('20:30'))\n",
    "+flight(310, 'Dallas', 'Albuquerque', str2time('9:30'), str2time('11:00'))\n",
    "+flight(325, 'Los Angeles', 'Dallas', str2time('6:15'), str2time('8:15'))\n",
    "+flight(425, 'Albuquerque', 'Los Angeles', str2time('21:30'), str2time('23:00'))"
   ]
  },
  {
   "cell_type": "code",
   "execution_count": 30,
   "metadata": {
    "collapsed": true
   },
   "outputs": [],
   "source": [
    "pdl.create_terms('Xnum, Xfrom, Xto, Xt1, Xt2, Ynum, Yfrom, Yto, Yt1, Yt2')"
   ]
  },
  {
   "cell_type": "code",
   "execution_count": 31,
   "metadata": {
    "collapsed": false
   },
   "outputs": [
    {
     "name": "stdout",
     "output_type": "stream",
     "text": [
      "Xnum | Xfrom       | Xto         | Xt1                 | Xt2                \n",
      "-----|-------------|-------------|---------------------|--------------------\n",
      "101  | Los Angeles | Chicago     | 2015-11-03 05:30:00 | 2015-11-03 07:30:00\n",
      "104  | Chicago     | Detroit     | 2015-11-03 08:50:00 | 2015-11-03 09:30:00\n",
      "105  | Chicago     | Pittsburgh  | 2015-11-03 08:00:00 | 2015-11-03 09:15:00\n",
      "107  | Detroit     | New York    | 2015-11-03 11:00:00 | 2015-11-03 12:30:00\n",
      "109  | Pittsburgh  | New York    | 2015-11-03 10:00:00 | 2015-11-03 12:00:00\n",
      "201  | Las Vegas   | Tucson      | 2015-11-03 17:40:00 | 2015-11-03 19:00:00\n",
      "205  | Chicago     | Las Vegas   | 2015-11-03 14:00:00 | 2015-11-03 17:00:00\n",
      "210  | Tucson      | Albuquerque | 2015-11-03 19:30:00 | 2015-11-03 20:30:00\n",
      "310  | Dallas      | Albuquerque | 2015-11-03 09:30:00 | 2015-11-03 11:00:00\n",
      "325  | Los Angeles | Dallas      | 2015-11-03 06:15:00 | 2015-11-03 08:15:00\n",
      "425  | Albuquerque | Los Angeles | 2015-11-03 21:30:00 | 2015-11-03 23:00:00\n"
     ]
    }
   ],
   "source": [
    "print(flight(Xnum, Xfrom, Xto, Xt1, Xt2).sort())"
   ]
  },
  {
   "cell_type": "markdown",
   "metadata": {},
   "source": [
    "#### (A) Encontre todos os números de voos com origem em Los Angeles"
   ]
  },
  {
   "cell_type": "markdown",
   "metadata": {},
   "source": [
    "Chamamos esta consulta de `no_flights_from_LA`."
   ]
  },
  {
   "cell_type": "code",
   "execution_count": 32,
   "metadata": {
    "collapsed": false
   },
   "outputs": [],
   "source": [
    "pdl.create_terms('no_flights_from_LA')"
   ]
  },
  {
   "cell_type": "code",
   "execution_count": 33,
   "metadata": {
    "collapsed": false
   },
   "outputs": [
    {
     "data": {
      "text/plain": [
       "no_flights_from_LA(Xnum) <= flight(Xnum,Xfrom,Xto,"
      ]
     },
     "execution_count": 33,
     "metadata": {},
     "output_type": "execute_result"
    }
   ],
   "source": [
    "no_flights_from_LA(Xnum) <= flight(Xnum, Xfrom, Xto, Xt1, Xt2) & (Xfrom == 'Los Angeles')"
   ]
  },
  {
   "cell_type": "code",
   "execution_count": 34,
   "metadata": {
    "collapsed": false
   },
   "outputs": [
    {
     "name": "stdout",
     "output_type": "stream",
     "text": [
      "Xnum\n",
      "----\n",
      "101 \n",
      "325 \n"
     ]
    }
   ],
   "source": [
    "print(no_flights_from_LA(Xnum).sort())"
   ]
  },
  {
   "cell_type": "markdown",
   "metadata": {},
   "source": [
    "#### (B) Encontre todos os números de voos que saem de Chicago depois que o voo 101 chegam em Chicago. Mas que saem antes de 1 hora depois da chegada do voo 101"
   ]
  },
  {
   "cell_type": "code",
   "execution_count": 35,
   "metadata": {
    "collapsed": true
   },
   "outputs": [],
   "source": [
    "from datetime import timedelta"
   ]
  },
  {
   "cell_type": "markdown",
   "metadata": {},
   "source": [
    "Chamaremos esta consulta de `leave_chicago_at_most_1hour_after_101_arrival`."
   ]
  },
  {
   "cell_type": "code",
   "execution_count": 36,
   "metadata": {
    "collapsed": true
   },
   "outputs": [],
   "source": [
    "pdl.create_terms('leave_chicago_at_most_1hour_after_101_arrival')"
   ]
  },
  {
   "cell_type": "code",
   "execution_count": 37,
   "metadata": {
    "collapsed": false
   },
   "outputs": [
    {
     "data": {
      "text/plain": [
       "leave_chicago_at_most_1hour_after_101_arrival(Xnum"
      ]
     },
     "execution_count": 37,
     "metadata": {},
     "output_type": "execute_result"
    }
   ],
   "source": [
    "leave_chicago_at_most_1hour_after_101_arrival(Xnum) <= \\\n",
    "    flight(Xnum, Xfrom, Xto, Xt1, Xt2) & flight(101, Yfrom, \"Chicago\", Yt1, Yt2) & \\\n",
    "    (Xfrom == \"Chicago\") & (Xt1 > Yt2) & (Xt1 <= Yt2 + timedelta(minutes=60))"
   ]
  },
  {
   "cell_type": "code",
   "execution_count": 38,
   "metadata": {
    "collapsed": false
   },
   "outputs": [
    {
     "name": "stdout",
     "output_type": "stream",
     "text": [
      "Xnum\n",
      "----\n",
      "105 \n"
     ]
    }
   ],
   "source": [
    "print(leave_chicago_at_most_1hour_after_101_arrival(Xnum).sort())"
   ]
  },
  {
   "cell_type": "markdown",
   "metadata": {},
   "source": [
    "#### (C) Encontre todos os números de voos que não saem de Chicago."
   ]
  },
  {
   "cell_type": "markdown",
   "metadata": {},
   "source": [
    "Chamamos esta consulta de `not_from_chicago`."
   ]
  },
  {
   "cell_type": "code",
   "execution_count": 39,
   "metadata": {
    "collapsed": true
   },
   "outputs": [],
   "source": [
    "pdl.create_terms('not_from_chicago')"
   ]
  },
  {
   "cell_type": "code",
   "execution_count": 40,
   "metadata": {
    "collapsed": false
   },
   "outputs": [
    {
     "data": {
      "text/plain": [
       "not_from_chicago(Xnum) <= flight(Xnum,Xfrom,Xto,Xt"
      ]
     },
     "execution_count": 40,
     "metadata": {},
     "output_type": "execute_result"
    }
   ],
   "source": [
    "not_from_chicago(Xnum) <= flight(Xnum, Xfrom, Xto, Xt1, Xt2) & (Xfrom != \"Chicago\")"
   ]
  },
  {
   "cell_type": "code",
   "execution_count": 41,
   "metadata": {
    "collapsed": false
   },
   "outputs": [
    {
     "name": "stdout",
     "output_type": "stream",
     "text": [
      "Xnum\n",
      "----\n",
      "101 \n",
      "107 \n",
      "109 \n",
      "201 \n",
      "210 \n",
      "310 \n",
      "325 \n",
      "425 \n"
     ]
    }
   ],
   "source": [
    "print(not_from_chicago(Xnum).sort())"
   ]
  },
  {
   "cell_type": "markdown",
   "metadata": {},
   "source": [
    "#### (D) Encontre todas as cidades possíveis de se alcançar a partir de Chicago fazendo uma conexão em Detroit."
   ]
  },
  {
   "cell_type": "code",
   "execution_count": 42,
   "metadata": {
    "collapsed": false
   },
   "outputs": [
    {
     "name": "stdout",
     "output_type": "stream",
     "text": [
      "Xnum | Xfrom       | Xto         | Xt1                 | Xt2                \n",
      "-----|-------------|-------------|---------------------|--------------------\n",
      "104  | Chicago     | Detroit     | 2015-11-03 08:50:00 | 2015-11-03 09:30:00\n",
      "105  | Chicago     | Pittsburgh  | 2015-11-03 08:00:00 | 2015-11-03 09:15:00\n",
      "107  | Detroit     | New York    | 2015-11-03 11:00:00 | 2015-11-03 12:30:00\n",
      "109  | Pittsburgh  | New York    | 2015-11-03 10:00:00 | 2015-11-03 12:00:00\n",
      "425  | Albuquerque | Los Angeles | 2015-11-03 21:30:00 | 2015-11-03 23:00:00\n",
      "101  | Los Angeles | Chicago     | 2015-11-03 05:30:00 | 2015-11-03 07:30:00\n",
      "210  | Tucson      | Albuquerque | 2015-11-03 19:30:00 | 2015-11-03 20:30:00\n",
      "201  | Las Vegas   | Tucson      | 2015-11-03 17:40:00 | 2015-11-03 19:00:00\n",
      "325  | Los Angeles | Dallas      | 2015-11-03 06:15:00 | 2015-11-03 08:15:00\n",
      "310  | Dallas      | Albuquerque | 2015-11-03 09:30:00 | 2015-11-03 11:00:00\n",
      "205  | Chicago     | Las Vegas   | 2015-11-03 14:00:00 | 2015-11-03 17:00:00\n"
     ]
    }
   ],
   "source": [
    "print(flight(Xnum, Xfrom, Xto, Xt1, Xt2))"
   ]
  },
  {
   "cell_type": "markdown",
   "metadata": {},
   "source": [
    "Chamamos esta consulta de `from_chicago_with_detroit_connection`."
   ]
  },
  {
   "cell_type": "code",
   "execution_count": 43,
   "metadata": {
    "collapsed": false
   },
   "outputs": [],
   "source": [
    "pdl.create_terms('reachable_from_at, At')\n",
    "pdl.create_terms('Num, From, To, At, T1, T2, Dst, Conn')"
   ]
  },
  {
   "cell_type": "code",
   "execution_count": 44,
   "metadata": {
    "collapsed": false
   },
   "outputs": [
    {
     "data": {
      "text/plain": [
       "reachable_from_at(From,Conn,Dst,At) <= flight(Num,"
      ]
     },
     "execution_count": 44,
     "metadata": {},
     "output_type": "execute_result"
    }
   ],
   "source": [
    "reachable_from_at(From, Conn, Dst, At) <= flight(Num, From, Dst, T1, At) & (Conn == Dst)"
   ]
  },
  {
   "cell_type": "code",
   "execution_count": 45,
   "metadata": {
    "collapsed": false
   },
   "outputs": [
    {
     "data": {
      "text/plain": [
       "reachable_from_at(From,Conn,Dst,At) <= reachable_f"
      ]
     },
     "execution_count": 45,
     "metadata": {},
     "output_type": "execute_result"
    }
   ],
   "source": [
    "reachable_from_at(From, Conn, Dst, At) <= reachable_from_at(From, X, Conn, T1) & \\\n",
    "    flight(Num, Conn, Dst, T2, At) & (T1 <= T2)"
   ]
  },
  {
   "cell_type": "code",
   "execution_count": 46,
   "metadata": {
    "collapsed": false
   },
   "outputs": [
    {
     "name": "stdout",
     "output_type": "stream",
     "text": [
      "Dst      | At                 \n",
      "---------|--------------------\n",
      "Detroit  | 2015-11-03 09:30:00\n",
      "New York | 2015-11-03 12:30:00\n"
     ]
    }
   ],
   "source": [
    "print(reachable_from_at(\"Chicago\", \"Detroit\", Dst, At).sort())"
   ]
  },
  {
   "cell_type": "code",
   "execution_count": 47,
   "metadata": {
    "collapsed": false
   },
   "outputs": [
    {
     "name": "stdout",
     "output_type": "stream",
     "text": [
      "From        | Conn        | Dst         | At                 \n",
      "------------|-------------|-------------|--------------------\n",
      "Albuquerque | Los Angeles | Los Angeles | 2015-11-03 23:00:00\n",
      "Chicago     | Albuquerque | Los Angeles | 2015-11-03 23:00:00\n",
      "Chicago     | Detroit     | Detroit     | 2015-11-03 09:30:00\n",
      "Chicago     | Detroit     | New York    | 2015-11-03 12:30:00\n",
      "Chicago     | Las Vegas   | Las Vegas   | 2015-11-03 17:00:00\n",
      "Chicago     | Las Vegas   | Tucson      | 2015-11-03 19:00:00\n",
      "Chicago     | Pittsburgh  | New York    | 2015-11-03 12:00:00\n",
      "Chicago     | Pittsburgh  | Pittsburgh  | 2015-11-03 09:15:00\n",
      "Chicago     | Tucson      | Albuquerque | 2015-11-03 20:30:00\n",
      "Dallas      | Albuquerque | Albuquerque | 2015-11-03 11:00:00\n",
      "Dallas      | Albuquerque | Los Angeles | 2015-11-03 23:00:00\n",
      "Detroit     | New York    | New York    | 2015-11-03 12:30:00\n",
      "Las Vegas   | Albuquerque | Los Angeles | 2015-11-03 23:00:00\n",
      "Las Vegas   | Tucson      | Albuquerque | 2015-11-03 20:30:00\n",
      "Las Vegas   | Tucson      | Tucson      | 2015-11-03 19:00:00\n",
      "Los Angeles | Albuquerque | Los Angeles | 2015-11-03 23:00:00\n",
      "Los Angeles | Chicago     | Chicago     | 2015-11-03 07:30:00\n",
      "Los Angeles | Chicago     | Detroit     | 2015-11-03 09:30:00\n",
      "Los Angeles | Chicago     | Las Vegas   | 2015-11-03 17:00:00\n",
      "Los Angeles | Chicago     | Pittsburgh  | 2015-11-03 09:15:00\n",
      "Los Angeles | Dallas      | Albuquerque | 2015-11-03 11:00:00\n",
      "Los Angeles | Dallas      | Dallas      | 2015-11-03 08:15:00\n",
      "Los Angeles | Detroit     | New York    | 2015-11-03 12:30:00\n",
      "Los Angeles | Las Vegas   | Tucson      | 2015-11-03 19:00:00\n",
      "Los Angeles | Pittsburgh  | New York    | 2015-11-03 12:00:00\n",
      "Los Angeles | Tucson      | Albuquerque | 2015-11-03 20:30:00\n",
      "Pittsburgh  | New York    | New York    | 2015-11-03 12:00:00\n",
      "Tucson      | Albuquerque | Albuquerque | 2015-11-03 20:30:00\n",
      "Tucson      | Albuquerque | Los Angeles | 2015-11-03 23:00:00\n"
     ]
    }
   ],
   "source": [
    "print(reachable_from_at(From, Conn, Dst, At).sort())"
   ]
  },
  {
   "cell_type": "code",
   "execution_count": 48,
   "metadata": {
    "collapsed": true
   },
   "outputs": [],
   "source": [
    "pdl.create_terms('reachable_with_conn, From, Conn, Dst')"
   ]
  },
  {
   "cell_type": "code",
   "execution_count": 49,
   "metadata": {
    "collapsed": false
   },
   "outputs": [
    {
     "name": "stdout",
     "output_type": "stream",
     "text": [
      "Dst      | At                 \n",
      "---------|--------------------\n",
      "Detroit  | 2015-11-03 09:30:00\n",
      "New York | 2015-11-03 12:30:00\n"
     ]
    }
   ],
   "source": [
    "print(reachable_from_at(\"Chicago\", \"Detroit\", Dst, At).sort())"
   ]
  },
  {
   "cell_type": "markdown",
   "metadata": {},
   "source": [
    "#### (E) Encontre todas as cidades que se pode alcançar a partir de Chicago por voo direto ou por uma ou mais conexões. Mas que não se gaste mais de uma hora esperando pela conexão."
   ]
  },
  {
   "cell_type": "code",
   "execution_count": 50,
   "metadata": {
    "collapsed": true
   },
   "outputs": [],
   "source": [
    "pdl.create_terms('reachable_bounded_time_conn, Bound')"
   ]
  },
  {
   "cell_type": "code",
   "execution_count": 51,
   "metadata": {
    "collapsed": false
   },
   "outputs": [
    {
     "data": {
      "text/plain": [
       "reachable_bounded_time_conn(From,To) <= flight(Num"
      ]
     },
     "execution_count": 51,
     "metadata": {},
     "output_type": "execute_result"
    }
   ],
   "source": [
    "reachable_bounded_time_conn(From, To) <= flight(Num, From, To, T1, T2)"
   ]
  },
  {
   "cell_type": "code",
   "execution_count": 52,
   "metadata": {
    "collapsed": false
   },
   "outputs": [
    {
     "data": {
      "text/plain": [
       "reachable_bounded_time_conn(From,To) <= reachable_"
      ]
     },
     "execution_count": 52,
     "metadata": {},
     "output_type": "execute_result"
    }
   ],
   "source": [
    "reachable_bounded_time_conn(From, To) <= reachable_from_at(From, Y, X, At) & \\\n",
    "    flight(Num, X, To, T1, T2) & (T1 >= At) & (T1 <= At + timedelta(minutes=60))"
   ]
  },
  {
   "cell_type": "code",
   "execution_count": 53,
   "metadata": {
    "collapsed": false
   },
   "outputs": [
    {
     "name": "stdout",
     "output_type": "stream",
     "text": [
      "To         \n",
      "-----------\n",
      "New York   \n",
      "Albuquerque\n",
      "Tucson     \n",
      "Pittsburgh \n",
      "Las Vegas  \n",
      "Los Angeles\n",
      "Detroit    \n"
     ]
    }
   ],
   "source": [
    "print(reachable_bounded_time_conn(\"Chicago\", To))"
   ]
  },
  {
   "cell_type": "markdown",
   "metadata": {},
   "source": [
    "#### (F) Encontre o número de todos os voos que não partem de Chicago ou de uma cidade que é possível alcançar a partir de Chicago."
   ]
  },
  {
   "cell_type": "code",
   "execution_count": 54,
   "metadata": {
    "collapsed": true
   },
   "outputs": [],
   "source": [
    "pdl.create_terms('unreacheable_flights')"
   ]
  },
  {
   "cell_type": "code",
   "execution_count": 55,
   "metadata": {
    "collapsed": false
   },
   "outputs": [
    {
     "data": {
      "text/plain": [
       "unreacheable_flights(Num,From) <= flight(Num,Xfrom"
      ]
     },
     "execution_count": 55,
     "metadata": {},
     "output_type": "execute_result"
    }
   ],
   "source": [
    "unreacheable_flights(Num, From) <= flight(Num, Xfrom, Xto, T1, T2) & (Xfrom != From) & ~reachable_from_at(From, Conn, Xfrom, At)"
   ]
  },
  {
   "cell_type": "code",
   "execution_count": 56,
   "metadata": {
    "collapsed": false
   },
   "outputs": [
    {
     "name": "stdout",
     "output_type": "stream",
     "text": [
      "Num\n",
      "---\n",
      "310\n"
     ]
    }
   ],
   "source": [
    "print(unreacheable_flights(Num, \"Chicago\").sort())"
   ]
  },
  {
   "cell_type": "code",
   "execution_count": 57,
   "metadata": {
    "collapsed": false
   },
   "outputs": [
    {
     "name": "stdout",
     "output_type": "stream",
     "text": [
      "Conn        | Dst         | At                 \n",
      "------------|-------------|--------------------\n",
      "Albuquerque | Los Angeles | 2015-11-03 23:00:00\n",
      "Detroit     | Detroit     | 2015-11-03 09:30:00\n",
      "Detroit     | New York    | 2015-11-03 12:30:00\n",
      "Las Vegas   | Las Vegas   | 2015-11-03 17:00:00\n",
      "Las Vegas   | Tucson      | 2015-11-03 19:00:00\n",
      "Pittsburgh  | New York    | 2015-11-03 12:00:00\n",
      "Pittsburgh  | Pittsburgh  | 2015-11-03 09:15:00\n",
      "Tucson      | Albuquerque | 2015-11-03 20:30:00\n"
     ]
    }
   ],
   "source": [
    "print(reachable_from_at(\"Chicago\", Conn, Dst, At).sort())"
   ]
  },
  {
   "cell_type": "code",
   "execution_count": 58,
   "metadata": {
    "collapsed": false
   },
   "outputs": [
    {
     "name": "stdout",
     "output_type": "stream",
     "text": [
      "flight\n"
     ]
    }
   ],
   "source": [
    "print(flight)"
   ]
  }
 ],
 "metadata": {
  "kernelspec": {
   "display_name": "Python 3",
   "language": "python",
   "name": "python3"
  },
  "language_info": {
   "codemirror_mode": {
    "name": "ipython",
    "version": 3
   },
   "file_extension": ".py",
   "mimetype": "text/x-python",
   "name": "python",
   "nbconvert_exporter": "python",
   "pygments_lexer": "ipython3",
   "version": "3.5.0"
  }
 },
 "nbformat": 4,
 "nbformat_minor": 0
}
