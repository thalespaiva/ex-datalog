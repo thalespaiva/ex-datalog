{
 "cells": [
  {
   "cell_type": "markdown",
   "metadata": {},
   "source": [
    "MAC5861 - Modelagem de Banco de Dados 2015  (Profa. Kelly R. Bragheto)"
   ]
  },
  {
   "cell_type": "markdown",
   "metadata": {},
   "source": [
    "Resolução da Lista de Exercícios III"
   ]
  },
  {
   "cell_type": "markdown",
   "metadata": {},
   "source": [
    "Thales A. B. Paiva (thalespaiva@gmail.com) "
   ]
  },
  {
   "cell_type": "markdown",
   "metadata": {},
   "source": [
    "# Exercício 1"
   ]
  },
  {
   "cell_type": "markdown",
   "metadata": {},
   "source": [
    "Considere a relação `direct_sequel(Film, Sequel)` que armazena tuplas `(m, s)` em que `t` é o título de um filme e `s` é o título de uma sequência imediata de `t`. Considere que podemos ter mais de uma sequência imediata de um mesmo filme. "
   ]
  },
  {
   "cell_type": "markdown",
   "metadata": {},
   "source": [
    "Define-se uma relação continuação, representada por `sequel`, tal que uma dupla `(t, c)` está em `sequel` se:\n",
    "* `c` é sequência imediata de `t`\n",
    "* `c` é sequência de uma sequência de uma sequência imediata de `t`"
   ]
  },
  {
   "cell_type": "markdown",
   "metadata": {},
   "source": [
    "## Resolução"
   ]
  },
  {
   "cell_type": "markdown",
   "metadata": {},
   "source": [
    "Resolvemos este exercício em Python usando o módulo `pyDatalog` (em <https://sites.google.com/site/pydatalog/home>)."
   ]
  },
  {
   "cell_type": "code",
   "execution_count": 1,
   "metadata": {
    "collapsed": true
   },
   "outputs": [],
   "source": [
    "from pyDatalog import pyDatalog as pdl"
   ]
  },
  {
   "cell_type": "markdown",
   "metadata": {},
   "source": [
    "Vamos incializar nossa relação `direct_sequel`."
   ]
  },
  {
   "cell_type": "code",
   "execution_count": 2,
   "metadata": {
    "collapsed": true
   },
   "outputs": [],
   "source": [
    "pdl.create_terms('direct_sequel')"
   ]
  },
  {
   "cell_type": "markdown",
   "metadata": {},
   "source": [
    "Agora colocamos algumas tuplas:"
   ]
  },
  {
   "cell_type": "code",
   "execution_count": 3,
   "metadata": {
    "collapsed": true
   },
   "outputs": [],
   "source": [
    "+direct_sequel('Rocky I', 'Rocky II')\n",
    "+direct_sequel('Rocky II', 'Rocky III')\n",
    "+direct_sequel('Rocky III', 'Rocky IV')\n",
    "+direct_sequel('Rocky IV', 'Rocky V')\n",
    "+direct_sequel('Rocky V', 'Rocky VI')\n",
    "+direct_sequel('Esqueceram de Mim 1', 'Esqueceram de Mim 2')\n",
    "+direct_sequel('Esqueceram de Mim 2', 'Esqueceram de Mim 3')\n",
    "+direct_sequel('Esqueceram de Mim 3', 'Esqueceram de Mim 4')\n",
    "+direct_sequel('Esqueceram de Mim 4', 'Esqueceram de Mim 5')\n",
    "+direct_sequel('Star Wars: Episódio IV', 'Star Wars: Episódio V')\n",
    "+direct_sequel('Star Wars: Episódio V', 'Star Wars: Episódio VI')\n",
    "+direct_sequel('Senhor dos Anéis: A Sociedade do Anel', 'Senhor dos Anéis: As Duas Torres')\n",
    "+direct_sequel('Senhor dos Anéis: As Duas Torres', 'Senhor dos Anéis: O Retorno do Rei')\n",
    "+direct_sequel('Filme X', 'Filme X.1')\n",
    "+direct_sequel('Filme X', 'Filme X.2')\n",
    "+direct_sequel('Filme Y', 'Filme Y.1')\n",
    "+direct_sequel('Filme Y.1', 'Filme Y.1.1')\n",
    "+direct_sequel('Filme Y.1', 'Filme Y.1.2')"
   ]
  },
  {
   "cell_type": "markdown",
   "metadata": {},
   "source": [
    "Precisamos de quatro variáveis para definir as consultas pedidas."
   ]
  },
  {
   "cell_type": "code",
   "execution_count": 4,
   "metadata": {
    "collapsed": true
   },
   "outputs": [],
   "source": [
    "pdl.create_terms('W, X, Y, Z')"
   ]
  },
  {
   "cell_type": "markdown",
   "metadata": {},
   "source": [
    "Podemos ver a tabela que define o predicado `direct_sequel` abaixo."
   ]
  },
  {
   "cell_type": "code",
   "execution_count": 5,
   "metadata": {
    "collapsed": false
   },
   "outputs": [
    {
     "name": "stdout",
     "output_type": "stream",
     "text": [
      "X                                     | Y                                 \n",
      "--------------------------------------|-----------------------------------\n",
      "Esqueceram de Mim 1                   | Esqueceram de Mim 2               \n",
      "Esqueceram de Mim 2                   | Esqueceram de Mim 3               \n",
      "Esqueceram de Mim 3                   | Esqueceram de Mim 4               \n",
      "Esqueceram de Mim 4                   | Esqueceram de Mim 5               \n",
      "Filme X                               | Filme X.1                         \n",
      "Filme X                               | Filme X.2                         \n",
      "Filme Y                               | Filme Y.1                         \n",
      "Filme Y.1                             | Filme Y.1.1                       \n",
      "Filme Y.1                             | Filme Y.1.2                       \n",
      "Rocky I                               | Rocky II                          \n",
      "Rocky II                              | Rocky III                         \n",
      "Rocky III                             | Rocky IV                          \n",
      "Rocky IV                              | Rocky V                           \n",
      "Rocky V                               | Rocky VI                          \n",
      "Senhor dos Anéis: A Sociedade do Anel | Senhor dos Anéis: As Duas Torres  \n",
      "Senhor dos Anéis: As Duas Torres      | Senhor dos Anéis: O Retorno do Rei\n",
      "Star Wars: Episódio IV                | Star Wars: Episódio V             \n",
      "Star Wars: Episódio V                 | Star Wars: Episódio VI            \n"
     ]
    }
   ],
   "source": [
    "print(direct_sequel(X, Y).sort())"
   ]
  },
  {
   "cell_type": "markdown",
   "metadata": {},
   "source": [
    "Estamos aptos a escrever as consultas do **item A** ao **item F**."
   ]
  },
  {
   "cell_type": "markdown",
   "metadata": {},
   "source": [
    "### (A)\n",
    "*Escreva uma consulta que retorne os pares `(x, y)` tais que `y` é continuação de `x`.*"
   ]
  },
  {
   "cell_type": "markdown",
   "metadata": {},
   "source": [
    "Chamamos esta consulta de `sequel(X, Y)`."
   ]
  },
  {
   "cell_type": "code",
   "execution_count": 6,
   "metadata": {
    "collapsed": true
   },
   "outputs": [],
   "source": [
    "pdl.create_terms('sequel')"
   ]
  },
  {
   "cell_type": "markdown",
   "metadata": {},
   "source": [
    "Pela definição de continuação, `sequel`, dada no enunciado, temos:"
   ]
  },
  {
   "cell_type": "code",
   "execution_count": 7,
   "metadata": {
    "collapsed": false
   },
   "outputs": [
    {
     "data": {
      "text/plain": [
       "sequel(X,Y) <= direct_sequel(X,Z)&sequel(Z,Y)"
      ]
     },
     "execution_count": 7,
     "metadata": {},
     "output_type": "execute_result"
    }
   ],
   "source": [
    "sequel(X, Y) <= direct_sequel(X, Y)\n",
    "sequel(X, Y) <= direct_sequel(X, Z) & sequel(Z, Y)"
   ]
  },
  {
   "cell_type": "markdown",
   "metadata": {},
   "source": [
    "Abaixo, vemos a tabela gerada por esta consulta."
   ]
  },
  {
   "cell_type": "code",
   "execution_count": 8,
   "metadata": {
    "collapsed": false
   },
   "outputs": [
    {
     "name": "stdout",
     "output_type": "stream",
     "text": [
      "X                                     | Y                                 \n",
      "--------------------------------------|-----------------------------------\n",
      "Esqueceram de Mim 1                   | Esqueceram de Mim 2               \n",
      "Esqueceram de Mim 1                   | Esqueceram de Mim 3               \n",
      "Esqueceram de Mim 1                   | Esqueceram de Mim 4               \n",
      "Esqueceram de Mim 1                   | Esqueceram de Mim 5               \n",
      "Esqueceram de Mim 2                   | Esqueceram de Mim 3               \n",
      "Esqueceram de Mim 2                   | Esqueceram de Mim 4               \n",
      "Esqueceram de Mim 2                   | Esqueceram de Mim 5               \n",
      "Esqueceram de Mim 3                   | Esqueceram de Mim 4               \n",
      "Esqueceram de Mim 3                   | Esqueceram de Mim 5               \n",
      "Esqueceram de Mim 4                   | Esqueceram de Mim 5               \n",
      "Filme X                               | Filme X.1                         \n",
      "Filme X                               | Filme X.2                         \n",
      "Filme Y                               | Filme Y.1                         \n",
      "Filme Y                               | Filme Y.1.1                       \n",
      "Filme Y                               | Filme Y.1.2                       \n",
      "Filme Y.1                             | Filme Y.1.1                       \n",
      "Filme Y.1                             | Filme Y.1.2                       \n",
      "Rocky I                               | Rocky II                          \n",
      "Rocky I                               | Rocky III                         \n",
      "Rocky I                               | Rocky IV                          \n",
      "Rocky I                               | Rocky V                           \n",
      "Rocky I                               | Rocky VI                          \n",
      "Rocky II                              | Rocky III                         \n",
      "Rocky II                              | Rocky IV                          \n",
      "Rocky II                              | Rocky V                           \n",
      "Rocky II                              | Rocky VI                          \n",
      "Rocky III                             | Rocky IV                          \n",
      "Rocky III                             | Rocky V                           \n",
      "Rocky III                             | Rocky VI                          \n",
      "Rocky IV                              | Rocky V                           \n",
      "Rocky IV                              | Rocky VI                          \n",
      "Rocky V                               | Rocky VI                          \n",
      "Senhor dos Anéis: A Sociedade do Anel | Senhor dos Anéis: As Duas Torres  \n",
      "Senhor dos Anéis: A Sociedade do Anel | Senhor dos Anéis: O Retorno do Rei\n",
      "Senhor dos Anéis: As Duas Torres      | Senhor dos Anéis: O Retorno do Rei\n",
      "Star Wars: Episódio IV                | Star Wars: Episódio V             \n",
      "Star Wars: Episódio IV                | Star Wars: Episódio VI            \n",
      "Star Wars: Episódio V                 | Star Wars: Episódio VI            \n"
     ]
    }
   ],
   "source": [
    "print(sequel(X, Y).sort())"
   ]
  },
  {
   "cell_type": "markdown",
   "metadata": {},
   "source": [
    "### (B)\n",
    "*Escreva uma consulta que retorne os pares `(x, y)` tais que `y` é continuação de `x` mas não uma sequência imediata de `x`.*"
   ]
  },
  {
   "cell_type": "markdown",
   "metadata": {},
   "source": [
    "Chamamos esta consulta de `super_sequel`."
   ]
  },
  {
   "cell_type": "code",
   "execution_count": 9,
   "metadata": {
    "collapsed": false
   },
   "outputs": [],
   "source": [
    "pdl.create_terms('super_sequel')"
   ]
  },
  {
   "cell_type": "markdown",
   "metadata": {},
   "source": [
    "Pela definição:"
   ]
  },
  {
   "cell_type": "code",
   "execution_count": 10,
   "metadata": {
    "collapsed": false
   },
   "outputs": [
    {
     "data": {
      "text/plain": [
       "super_sequel(X,Y) <= sequel(X,Y)&~direct_sequel(X,"
      ]
     },
     "execution_count": 10,
     "metadata": {},
     "output_type": "execute_result"
    }
   ],
   "source": [
    "super_sequel(X, Y) <= sequel(X, Y) & ~direct_sequel(X, Y)"
   ]
  },
  {
   "cell_type": "markdown",
   "metadata": {},
   "source": [
    "E esta consulta gera a table abaixo."
   ]
  },
  {
   "cell_type": "code",
   "execution_count": 11,
   "metadata": {
    "collapsed": false
   },
   "outputs": [
    {
     "name": "stdout",
     "output_type": "stream",
     "text": [
      "X                                     | Y                                 \n",
      "--------------------------------------|-----------------------------------\n",
      "Esqueceram de Mim 1                   | Esqueceram de Mim 3               \n",
      "Esqueceram de Mim 1                   | Esqueceram de Mim 4               \n",
      "Esqueceram de Mim 1                   | Esqueceram de Mim 5               \n",
      "Esqueceram de Mim 2                   | Esqueceram de Mim 4               \n",
      "Esqueceram de Mim 2                   | Esqueceram de Mim 5               \n",
      "Esqueceram de Mim 3                   | Esqueceram de Mim 5               \n",
      "Filme Y                               | Filme Y.1.1                       \n",
      "Filme Y                               | Filme Y.1.2                       \n",
      "Rocky I                               | Rocky III                         \n",
      "Rocky I                               | Rocky IV                          \n",
      "Rocky I                               | Rocky V                           \n",
      "Rocky I                               | Rocky VI                          \n",
      "Rocky II                              | Rocky IV                          \n",
      "Rocky II                              | Rocky V                           \n",
      "Rocky II                              | Rocky VI                          \n",
      "Rocky III                             | Rocky V                           \n",
      "Rocky III                             | Rocky VI                          \n",
      "Rocky IV                              | Rocky VI                          \n",
      "Senhor dos Anéis: A Sociedade do Anel | Senhor dos Anéis: O Retorno do Rei\n",
      "Star Wars: Episódio IV                | Star Wars: Episódio VI            \n"
     ]
    }
   ],
   "source": [
    "print(super_sequel(X, Y).sort())"
   ]
  },
  {
   "cell_type": "markdown",
   "metadata": {},
   "source": [
    "### (C) \n",
    "*Escreva uma consulta que retorne os pares `(x, y)` tais que `y` é continuação de `x` mas não uma sequência imediata de `x`, nem uma sequência imediata de uma sequência imediata de `x`.*"
   ]
  },
  {
   "cell_type": "markdown",
   "metadata": {},
   "source": [
    "Chamamos esta consulta de `mega_sequel`."
   ]
  },
  {
   "cell_type": "code",
   "execution_count": 12,
   "metadata": {
    "collapsed": true
   },
   "outputs": [],
   "source": [
    "pdl.create_terms('mega_sequel')"
   ]
  },
  {
   "cell_type": "markdown",
   "metadata": {},
   "source": [
    "Note que a definição do enunciado é equivalente a existir uma sequência direta de `x` de que `y` é super-sequência. "
   ]
  },
  {
   "cell_type": "code",
   "execution_count": 13,
   "metadata": {
    "collapsed": false
   },
   "outputs": [
    {
     "data": {
      "text/plain": [
       "mega_sequel(X,Y) <= direct_sequel(X,Z)&super_seque"
      ]
     },
     "execution_count": 13,
     "metadata": {},
     "output_type": "execute_result"
    }
   ],
   "source": [
    "mega_sequel(X, Y) <= direct_sequel(X, Z) & super_sequel(Z, Y)"
   ]
  },
  {
   "cell_type": "code",
   "execution_count": 14,
   "metadata": {
    "collapsed": false
   },
   "outputs": [
    {
     "name": "stdout",
     "output_type": "stream",
     "text": [
      "X                   | Y                  \n",
      "--------------------|--------------------\n",
      "Esqueceram de Mim 1 | Esqueceram de Mim 4\n",
      "Esqueceram de Mim 1 | Esqueceram de Mim 5\n",
      "Esqueceram de Mim 2 | Esqueceram de Mim 5\n",
      "Rocky I             | Rocky IV           \n",
      "Rocky I             | Rocky V            \n",
      "Rocky I             | Rocky VI           \n",
      "Rocky II            | Rocky V            \n",
      "Rocky II            | Rocky VI           \n",
      "Rocky III           | Rocky VI           \n"
     ]
    }
   ],
   "source": [
    "print(mega_sequel(X,Y).sort())"
   ]
  },
  {
   "cell_type": "markdown",
   "metadata": {},
   "source": [
    "### (D)\n",
    "*Escreva uma consulta que retorne o conjunto de filmes `x` que possuem pelo menos duas sequências diretas.*"
   ]
  },
  {
   "cell_type": "markdown",
   "metadata": {},
   "source": [
    "Chamamos esta consulta de `at_least_2_direct_sequels`."
   ]
  },
  {
   "cell_type": "code",
   "execution_count": 15,
   "metadata": {
    "collapsed": true
   },
   "outputs": [],
   "source": [
    "pdl.create_terms('at_least_2_direct_sequels')"
   ]
  },
  {
   "cell_type": "code",
   "execution_count": 16,
   "metadata": {
    "collapsed": false
   },
   "outputs": [
    {
     "data": {
      "text/plain": [
       "at_least_2_direct_sequels(X) <= direct_sequel(X,Y)"
      ]
     },
     "execution_count": 16,
     "metadata": {},
     "output_type": "execute_result"
    }
   ],
   "source": [
    "at_least_2_direct_sequels(X) <= direct_sequel(X, Y) & direct_sequel(X, Z) & (Y != Z)"
   ]
  },
  {
   "cell_type": "code",
   "execution_count": 18,
   "metadata": {
    "collapsed": false
   },
   "outputs": [
    {
     "name": "stdout",
     "output_type": "stream",
     "text": [
      "X        \n",
      "---------\n",
      "Filme Y.1\n",
      "Filme X  \n"
     ]
    }
   ],
   "source": [
    "print(at_least_2_direct_sequels(X))"
   ]
  },
  {
   "cell_type": "markdown",
   "metadata": {},
   "source": [
    "### (E) \n",
    "*Escreva uma consulta que retorne o conjunto de filmes `x` que possuem pelo menos duas continuações.*"
   ]
  },
  {
   "cell_type": "markdown",
   "metadata": {},
   "source": [
    "Chamamos esta consulta de `at_least_2_sequels`."
   ]
  },
  {
   "cell_type": "code",
   "execution_count": 19,
   "metadata": {
    "collapsed": true
   },
   "outputs": [],
   "source": [
    "pdl.create_terms('at_least_2_sequels')"
   ]
  },
  {
   "cell_type": "code",
   "execution_count": 20,
   "metadata": {
    "collapsed": false
   },
   "outputs": [
    {
     "data": {
      "text/plain": [
       "at_least_2_sequels(X) <= sequel(X,Y)&sequel(X,Z)&!"
      ]
     },
     "execution_count": 20,
     "metadata": {},
     "output_type": "execute_result"
    }
   ],
   "source": [
    "at_least_2_sequels(X) <= sequel(X, Y) & sequel(X, Z) & (Y != Z)"
   ]
  },
  {
   "cell_type": "code",
   "execution_count": 22,
   "metadata": {
    "collapsed": false
   },
   "outputs": [
    {
     "name": "stdout",
     "output_type": "stream",
     "text": [
      "X                                    \n",
      "-------------------------------------\n",
      "Esqueceram de Mim 1                  \n",
      "Esqueceram de Mim 2                  \n",
      "Esqueceram de Mim 3                  \n",
      "Filme X                              \n",
      "Filme Y                              \n",
      "Filme Y.1                            \n",
      "Rocky I                              \n",
      "Rocky II                             \n",
      "Rocky III                            \n",
      "Rocky IV                             \n",
      "Senhor dos Anéis: A Sociedade do Anel\n",
      "Star Wars: Episódio IV               \n"
     ]
    }
   ],
   "source": [
    "print(at_least_2_sequels(X).sort())"
   ]
  },
  {
   "cell_type": "markdown",
   "metadata": {},
   "source": [
    "### (F)\n",
    "*Escreva uma consulta que retorne o conjunto de pares de filmes `(x, y)` tais que `y` é uma continuação de ` x` e `y` tem no máximo uma continuação.*"
   ]
  },
  {
   "cell_type": "markdown",
   "metadata": {},
   "source": [
    "Chamammos esta consulta de `sequel_with_at_most_one_sequel`"
   ]
  },
  {
   "cell_type": "code",
   "execution_count": 23,
   "metadata": {
    "collapsed": true
   },
   "outputs": [],
   "source": [
    "pdl.create_terms('sequel_with_at_most_one_sequel')"
   ]
  },
  {
   "cell_type": "code",
   "execution_count": 25,
   "metadata": {
    "collapsed": false
   },
   "outputs": [
    {
     "data": {
      "text/plain": [
       "sequel_with_at_most_one_sequel(X,Y) <= sequel(X,Y)"
      ]
     },
     "execution_count": 25,
     "metadata": {},
     "output_type": "execute_result"
    }
   ],
   "source": [
    "sequel_with_at_most_one_sequel(X, Y) <= sequel(X, Y) & ~at_least_2_sequels(Y)"
   ]
  },
  {
   "cell_type": "code",
   "execution_count": 26,
   "metadata": {
    "collapsed": false
   },
   "outputs": [
    {
     "name": "stdout",
     "output_type": "stream",
     "text": [
      "X                                     | Y                                 \n",
      "--------------------------------------|-----------------------------------\n",
      "Esqueceram de Mim 1                   | Esqueceram de Mim 4               \n",
      "Esqueceram de Mim 1                   | Esqueceram de Mim 5               \n",
      "Esqueceram de Mim 2                   | Esqueceram de Mim 4               \n",
      "Esqueceram de Mim 2                   | Esqueceram de Mim 5               \n",
      "Esqueceram de Mim 3                   | Esqueceram de Mim 4               \n",
      "Esqueceram de Mim 3                   | Esqueceram de Mim 5               \n",
      "Esqueceram de Mim 4                   | Esqueceram de Mim 5               \n",
      "Filme X                               | Filme X.1                         \n",
      "Filme X                               | Filme X.2                         \n",
      "Filme Y                               | Filme Y.1.1                       \n",
      "Filme Y                               | Filme Y.1.2                       \n",
      "Filme Y.1                             | Filme Y.1.1                       \n",
      "Filme Y.1                             | Filme Y.1.2                       \n",
      "Rocky I                               | Rocky V                           \n",
      "Rocky I                               | Rocky VI                          \n",
      "Rocky II                              | Rocky V                           \n",
      "Rocky II                              | Rocky VI                          \n",
      "Rocky III                             | Rocky V                           \n",
      "Rocky III                             | Rocky VI                          \n",
      "Rocky IV                              | Rocky V                           \n",
      "Rocky IV                              | Rocky VI                          \n",
      "Rocky V                               | Rocky VI                          \n",
      "Senhor dos Anéis: A Sociedade do Anel | Senhor dos Anéis: As Duas Torres  \n",
      "Senhor dos Anéis: A Sociedade do Anel | Senhor dos Anéis: O Retorno do Rei\n",
      "Senhor dos Anéis: As Duas Torres      | Senhor dos Anéis: O Retorno do Rei\n",
      "Star Wars: Episódio IV                | Star Wars: Episódio V             \n",
      "Star Wars: Episódio IV                | Star Wars: Episódio VI            \n",
      "Star Wars: Episódio V                 | Star Wars: Episódio VI            \n"
     ]
    }
   ],
   "source": [
    "print(sequel_with_at_most_one_sequel(X, Y).sort())"
   ]
  },
  {
   "cell_type": "markdown",
   "metadata": {},
   "source": [
    "# Exercício 2"
   ]
  },
  {
   "cell_type": "code",
   "execution_count": null,
   "metadata": {
    "collapsed": false
   },
   "outputs": [],
   "source": [
    "pdl.create_terms('flight')"
   ]
  },
  {
   "cell_type": "code",
   "execution_count": null,
   "metadata": {
    "collapsed": false
   },
   "outputs": [],
   "source": [
    "from datetime import datetime"
   ]
  },
  {
   "cell_type": "code",
   "execution_count": null,
   "metadata": {
    "collapsed": true
   },
   "outputs": [],
   "source": [
    "def str2time(str_time):\n",
    "    today = datetime.today()\n",
    "    str_today = '%d:%d:%d' % (today.year, today.month, today.day)\n",
    "    return datetime.strptime(str_today + ':' + str_time, '%Y:%m:%d:%H:%M')"
   ]
  },
  {
   "cell_type": "code",
   "execution_count": null,
   "metadata": {
    "collapsed": false
   },
   "outputs": [],
   "source": [
    "+flight(105, 'Chicago', 'Pittsburgh', str2time('8:00'), str2time('9:15'))\n",
    "+flight(104, 'Chicago', 'Detroit', str2time('8:50'), str2time('9:30'))\n",
    "+flight(107, 'Detroit', 'New York', str2time('11:00'), str2time('12:30'))\n",
    "+flight(109, 'Pittsburgh', 'New York', str2time('10:00'), str2time('12:00'))\n",
    "+flight(205, 'Chicago', 'Las Vegas', str2time('14:00'), str2time('17:00'))\n",
    "+flight(101, 'Los Angeles', 'Chicago', str2time('5:30'), str2time('7:30'))\n",
    "+flight(201, 'Las Vegas', 'Tucson', str2time('17:40'), str2time('19:00'))\n",
    "+flight(210, 'Tucson', 'Albuquerque', str2time('19:30'), str2time('20:30'))\n",
    "+flight(310, 'Dallas', 'Albuquerque', str2time('9:30'), str2time('11:00'))\n",
    "+flight(325, 'Los Angeles', 'Dallas', str2time('6:15'), str2time('8:15'))\n",
    "+flight(425, 'Albuquerque', 'Los Angeles', str2time('21:30'), str2time('23:00'))"
   ]
  },
  {
   "cell_type": "code",
   "execution_count": null,
   "metadata": {
    "collapsed": true
   },
   "outputs": [],
   "source": [
    "pdl.create_terms('Xnum, Xfrom, Xto, Xt1, Xt2, Ynum, Yfrom, Yto, Yt1, Yt2')"
   ]
  },
  {
   "cell_type": "code",
   "execution_count": null,
   "metadata": {
    "collapsed": false
   },
   "outputs": [],
   "source": [
    "print(flight(Xnum, Xfrom, Xto, Xt1, Xt2).sort())"
   ]
  },
  {
   "cell_type": "markdown",
   "metadata": {},
   "source": [
    "#### (A) Encontre todos os números de voos com origem em Los Angeles"
   ]
  },
  {
   "cell_type": "markdown",
   "metadata": {},
   "source": [
    "Chamamos esta consulta de `no_flights_from_LA`."
   ]
  },
  {
   "cell_type": "code",
   "execution_count": null,
   "metadata": {
    "collapsed": false
   },
   "outputs": [],
   "source": [
    "pdl.create_terms('no_flights_from_LA')"
   ]
  },
  {
   "cell_type": "code",
   "execution_count": null,
   "metadata": {
    "collapsed": false
   },
   "outputs": [],
   "source": [
    "no_flights_from_LA(Xnum) <= flight(Xnum, Xfrom, Xto, Xt1, Xt2) & (Xfrom == 'Los Angeles')"
   ]
  },
  {
   "cell_type": "code",
   "execution_count": null,
   "metadata": {
    "collapsed": false
   },
   "outputs": [],
   "source": [
    "print(no_flights_from_LA(Xnum).sort())"
   ]
  },
  {
   "cell_type": "markdown",
   "metadata": {},
   "source": [
    "#### (B) Encontre todos os números de voos que saem de Chicago depois que o voo 101 chegam em Chicago. Mas que saem antes de 1 hora depois da chegada do voo 101"
   ]
  },
  {
   "cell_type": "code",
   "execution_count": null,
   "metadata": {
    "collapsed": true
   },
   "outputs": [],
   "source": [
    "from datetime import timedelta"
   ]
  },
  {
   "cell_type": "markdown",
   "metadata": {},
   "source": [
    "Chamaremos esta consulta de `leave_chicago_at_most_1hour_after_101_arrival`."
   ]
  },
  {
   "cell_type": "code",
   "execution_count": null,
   "metadata": {
    "collapsed": true
   },
   "outputs": [],
   "source": [
    "pdl.create_terms('leave_chicago_at_most_1hour_after_101_arrival')"
   ]
  },
  {
   "cell_type": "code",
   "execution_count": null,
   "metadata": {
    "collapsed": false
   },
   "outputs": [],
   "source": [
    "leave_chicago_at_most_1hour_after_101_arrival(Xnum) <= \\\n",
    "    flight(Xnum, Xfrom, Xto, Xt1, Xt2) & flight(101, Yfrom, \"Chicago\", Yt1, Yt2) & \\\n",
    "    (Xfrom == \"Chicago\") & (Xt1 > Yt2) & (Xt1 <= Yt2 + timedelta(minutes=60))"
   ]
  },
  {
   "cell_type": "code",
   "execution_count": null,
   "metadata": {
    "collapsed": false
   },
   "outputs": [],
   "source": [
    "print(leave_chicago_at_most_1hour_after_101_arrival(Xnum).sort())"
   ]
  },
  {
   "cell_type": "markdown",
   "metadata": {},
   "source": [
    "#### (C) Encontre todos os números de voos que não saem de Chicago."
   ]
  },
  {
   "cell_type": "markdown",
   "metadata": {},
   "source": [
    "Chamamos esta consulta de `not_from_chicago`."
   ]
  },
  {
   "cell_type": "code",
   "execution_count": null,
   "metadata": {
    "collapsed": true
   },
   "outputs": [],
   "source": [
    "pdl.create_terms('not_from_chicago')"
   ]
  },
  {
   "cell_type": "code",
   "execution_count": null,
   "metadata": {
    "collapsed": false
   },
   "outputs": [],
   "source": [
    "not_from_chicago(Xnum) <= flight(Xnum, Xfrom, Xto, Xt1, Xt2) & (Xfrom != \"Chicago\")"
   ]
  },
  {
   "cell_type": "code",
   "execution_count": null,
   "metadata": {
    "collapsed": false
   },
   "outputs": [],
   "source": [
    "print(not_from_chicago(Xnum).sort())"
   ]
  },
  {
   "cell_type": "markdown",
   "metadata": {},
   "source": [
    "#### (D) Encontre todas as cidades possíveis de se alcançar a partir de Chicago fazendo uma conexão em Detroit."
   ]
  },
  {
   "cell_type": "code",
   "execution_count": null,
   "metadata": {
    "collapsed": false
   },
   "outputs": [],
   "source": [
    "print(flight(Xnum, Xfrom, Xto, Xt1, Xt2))"
   ]
  },
  {
   "cell_type": "markdown",
   "metadata": {},
   "source": [
    "Chamamos esta consulta de `from_chicago_with_detroit_connection`."
   ]
  },
  {
   "cell_type": "code",
   "execution_count": null,
   "metadata": {
    "collapsed": false
   },
   "outputs": [],
   "source": [
    "pdl.create_terms('reachable_from_at, At')\n",
    "pdl.create_terms('Num, From, To, At, T1, T2, Dst, Conn')"
   ]
  },
  {
   "cell_type": "code",
   "execution_count": null,
   "metadata": {
    "collapsed": false
   },
   "outputs": [],
   "source": [
    "reachable_from_at(From, Conn, Dst, At) <= flight(Num, From, Dst, T1, At) & (Conn == Dst)"
   ]
  },
  {
   "cell_type": "code",
   "execution_count": null,
   "metadata": {
    "collapsed": false
   },
   "outputs": [],
   "source": [
    "reachable_from_at(From, Conn, Dst, At) <= reachable_from_at(From, X, Conn, T1) & \\\n",
    "    flight(Num, Conn, Dst, T2, At) & (T1 <= T2)"
   ]
  },
  {
   "cell_type": "code",
   "execution_count": null,
   "metadata": {
    "collapsed": false
   },
   "outputs": [],
   "source": [
    "print(reachable_from_at(\"Chicago\", \"Detroit\", Dst, At).sort())"
   ]
  },
  {
   "cell_type": "code",
   "execution_count": null,
   "metadata": {
    "collapsed": false
   },
   "outputs": [],
   "source": [
    "print(reachable_from_at(From, Conn, Dst, At).sort())"
   ]
  },
  {
   "cell_type": "code",
   "execution_count": null,
   "metadata": {
    "collapsed": true
   },
   "outputs": [],
   "source": [
    "pdl.create_terms('reachable_with_conn, From, Conn, Dst')"
   ]
  },
  {
   "cell_type": "code",
   "execution_count": null,
   "metadata": {
    "collapsed": false
   },
   "outputs": [],
   "source": [
    "print(reachable_from_at(\"Chicago\", \"Detroit\", Dst, At).sort())"
   ]
  },
  {
   "cell_type": "markdown",
   "metadata": {},
   "source": [
    "#### (E) Encontre todas as cidades que se pode alcançar a partir de Chicago por voo direto ou por uma ou mais conexões. Mas que não se gaste mais de uma hora esperando pela conexão."
   ]
  },
  {
   "cell_type": "code",
   "execution_count": null,
   "metadata": {
    "collapsed": true
   },
   "outputs": [],
   "source": [
    "pdl.create_terms('reachable_bounded_time_conn, Bound')"
   ]
  },
  {
   "cell_type": "code",
   "execution_count": null,
   "metadata": {
    "collapsed": false
   },
   "outputs": [],
   "source": [
    "reachable_bounded_time_conn(From, To) <= flight(Num, From, To, T1, T2)"
   ]
  },
  {
   "cell_type": "code",
   "execution_count": null,
   "metadata": {
    "collapsed": false
   },
   "outputs": [],
   "source": [
    "reachable_bounded_time_conn(From, To) <= reachable_from_at(From, Y, X, At) & \\\n",
    "    flight(Num, X, To, T1, T2) & (T1 >= At) & (T1 <= At + timedelta(minutes=60))"
   ]
  },
  {
   "cell_type": "code",
   "execution_count": null,
   "metadata": {
    "collapsed": false
   },
   "outputs": [],
   "source": [
    "print(reachable_bounded_time_conn(\"Chicago\", To))"
   ]
  },
  {
   "cell_type": "markdown",
   "metadata": {},
   "source": [
    "#### (F) Encontre o número de todos os voos que não partem de Chicago ou de uma cidade que é possível alcançar a partir de Chicago."
   ]
  },
  {
   "cell_type": "code",
   "execution_count": null,
   "metadata": {
    "collapsed": true
   },
   "outputs": [],
   "source": [
    "pdl.create_terms('unreacheable_flights')"
   ]
  },
  {
   "cell_type": "code",
   "execution_count": null,
   "metadata": {
    "collapsed": false
   },
   "outputs": [],
   "source": [
    "unreacheable_flights(Num, From) <= flight(Num, Xfrom, Xto, T1, T2) & (Xfrom != From) & ~reachable_from_at(From, Conn, Xfrom, At)"
   ]
  },
  {
   "cell_type": "code",
   "execution_count": null,
   "metadata": {
    "collapsed": false
   },
   "outputs": [],
   "source": [
    "print(unreacheable_flights(Num, \"Chicago\").sort())"
   ]
  },
  {
   "cell_type": "code",
   "execution_count": null,
   "metadata": {
    "collapsed": false
   },
   "outputs": [],
   "source": [
    "print(reachable_from_at(\"Chicago\", Conn, Dst, At).sort())"
   ]
  },
  {
   "cell_type": "code",
   "execution_count": null,
   "metadata": {
    "collapsed": false
   },
   "outputs": [],
   "source": [
    "print(flight)"
   ]
  }
 ],
 "metadata": {
  "kernelspec": {
   "display_name": "Python 3",
   "language": "python",
   "name": "python3"
  },
  "language_info": {
   "codemirror_mode": {
    "name": "ipython",
    "version": 3
   },
   "file_extension": ".py",
   "mimetype": "text/x-python",
   "name": "python",
   "nbconvert_exporter": "python",
   "pygments_lexer": "ipython3",
   "version": "3.5.0"
  }
 },
 "nbformat": 4,
 "nbformat_minor": 0
}
